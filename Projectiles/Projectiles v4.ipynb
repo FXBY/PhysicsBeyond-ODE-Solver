{
 "cells": [
  {
   "cell_type": "markdown",
   "metadata": {},
   "source": [
    "# Simulating Projectile motion (version 3.0)\n",
    "\n",
    "#### Ver 1:\n",
    "- The aim of the first version is to have a working implementation of the _Euler method_ for the motion of a projectile.\n",
    "- the _input parameters_ are set in the code and the _output_ yields the final position and velocity of the projectile\n",
    "- In the _evaluation_ we simply print out the error of the values obtained by the _Euler method_ when compared to the ones obtained using _SUVAT_\n",
    "\n",
    "#### Ver 2:\n",
    "- The aim of this second version is to improve the _output_ and _evaluation_ by saving and comparing the postion and velocity for each time step and plotting the data.\n",
    "\n",
    "#### Ver 3:\n",
    "- Add animated graphs using `matplotlib`\n",
    "\n",
    "#### Ver 4:\n",
    "- improved animations. (Simulated time = animation time, using a sensible number of frames)\n",
    "- extended simulation and included Newton type friction\n",
    "\n",
    "---"
   ]
  },
  {
   "cell_type": "markdown",
   "metadata": {},
   "source": [
    "We first import `numpy` to work with vectors in Python conveniently and `matplotlib.pyplot` to be able to plot our results. "
   ]
  },
  {
   "cell_type": "code",
   "execution_count": 3,
   "metadata": {},
   "outputs": [],
   "source": [
    "# Importing packages\n",
    "import numpy as np\n",
    "import matplotlib.pyplot as plt\n",
    "\n",
    "# Method for animating plots\n",
    "from matplotlib.animation import FuncAnimation\n",
    "\n",
    "# For jupyter notebooks: to display animations inline\n",
    "from IPython.display import HTML\n",
    "\n",
    "# This is a magic command for plots being plotted inline in the notebook.\n",
    "%matplotlib inline"
   ]
  },
  {
   "cell_type": "markdown",
   "metadata": {},
   "source": [
    "### Input"
   ]
  },
  {
   "cell_type": "markdown",
   "metadata": {},
   "source": [
    "This is the part of our code were we set the _input parameters_ for our simulation.\n",
    "- we need the initial position $r_0$ and velocity $v_0$\n",
    "- we need to set the gravitational field strenght $g$\n",
    "- we need to set the time step $\\Delta t$"
   ]
  },
  {
   "cell_type": "code",
   "execution_count": 49,
   "metadata": {},
   "outputs": [],
   "source": [
    "# Input\n",
    "\n",
    "# initial position and velocity of the point particle\n",
    "pos_init = np.array([.0, .0])\n",
    "vel_init = np.array([20.0, 40.0])\n",
    "\n",
    "# Set the acceleration g due to gravity\n",
    "g = np.array([.0, -9.81])\n",
    "\n",
    "# coefficient for friction\n",
    "alpha = 0.01"
   ]
  },
  {
   "cell_type": "markdown",
   "metadata": {},
   "source": [
    "Now we determine the time step $\\Delta t$. For that we take the number of time steps $N$ as well as the final time $t_{final}$ as the input and calculate\n",
    "$$\n",
    "    \\Delta t = \\frac{t_{final}}{N}\n",
    "$$"
   ]
  },
  {
   "cell_type": "code",
   "execution_count": 50,
   "metadata": {},
   "outputs": [],
   "source": [
    "# Set the number N of time steps \n",
    "N = 10000\n",
    "# Set a final time \n",
    "t_final = 8\n",
    "\n",
    "dt = t_final/N"
   ]
  },
  {
   "cell_type": "markdown",
   "metadata": {},
   "source": [
    "### Main"
   ]
  },
  {
   "cell_type": "markdown",
   "metadata": {},
   "source": [
    "The main part of our code is the implementation of the _**Euler method**_. \n",
    "- In our fist implementation we simply run through a `for` loop for $N$ number of time steps. \n",
    "- In each run we update the postion vector implemented by `pos` and velocity vector implemented as `vel` via the *Euler method*:\n",
    "$$\n",
    "    \\begin{align*}\n",
    "        r(t+\\Delta t) &\\approx r(t) + v(t)\\Delta t \\\\\n",
    "        v(t+\\Delta t) &\\approx v(t) + g\\Delta t\n",
    "    \\end{align*}\n",
    "$$\n",
    "\n",
    "- We update the `pos` and `vel` vectors directly for each time step\n",
    "- For each time step we save the newly calculated position vector `pos` in a list `trajectory`. This list is the data structure representing the calculated _trajectory_, i.e. the path of the point particle, hence the name.\n",
    "- For each time step we save the newly calculated velocity vector `vel` in a list `vel_data`. We shall use it later for comparing the numerical _Euler method_ with the analytical solution using _SUVAT_."
   ]
  },
  {
   "cell_type": "code",
   "execution_count": 51,
   "metadata": {},
   "outputs": [],
   "source": [
    "# Implementing the Euler method\n",
    "\n",
    "# Calculates the acceleration\n",
    "# Warning! Function depends on variables `alpha` and `g` defined outside of the function\n",
    "def accel(pos, vel, t=0):\n",
    "    return g - alpha*np.linalg.norm(vel)*vel\n",
    "\n",
    "# Set the intial values for position and velocity\n",
    "pos = pos_init\n",
    "vel = vel_init\n",
    "\n",
    "pos_norm = pos_init\n",
    "vel_norm = vel_init\n",
    "\n",
    "# List for saving the position for each time step for plotting and evaluation\n",
    "trajectory = [pos]\n",
    "trajectory_norm = [pos_norm]\n",
    "\n",
    "# List for saving the velocity for each time step for plotting and evaluation \n",
    "vel_data = [vel]\n",
    "\n",
    "# Calculate the new position and velocity for each time step and save them in the respective lists\n",
    "for i in range(N):\n",
    "    # Calculation of the trajectory without friction\n",
    "    pos_norm = pos_norm + vel_norm*dt\n",
    "    vel_norm = vel_norm + g*dt\n",
    "    trajectory_norm.append(pos_norm)\n",
    "    \n",
    "    # Calculation of the trajectory with friction\n",
    "    pos = pos + vel*dt\n",
    "    vel = vel + accel(pos, vel)*dt\n",
    "    trajectory.append(pos)\n",
    "    vel_data.append(vel)\n"
   ]
  },
  {
   "cell_type": "markdown",
   "metadata": {},
   "source": [
    "The vectors `pos` and `vel` contain now the approximations to $r(t_{final})$ and $v(t_{final})$ we have calculated with the _Euler method_. The list `trajectory` contains all the numerically calculated points for each time step ranging from $t=0$ until $t=t_{final}$ and is the approximation of the real trajectory obtained by the _Euler method_. Similarly, `vel_data` contains all the numeically calculated velocity vectors for each time step."
   ]
  },
  {
   "cell_type": "markdown",
   "metadata": {},
   "source": [
    "### Output"
   ]
  },
  {
   "cell_type": "markdown",
   "metadata": {},
   "source": [
    "We improve the output by plotting the trajectory of our projectile we have calculated with the help of the _Euler method_. We make use of the `matplotlib` package and start with a simple basic plot.\n",
    "\n",
    "To begin with we split the list `trajectory`  of position vectors into two tuples: the tuple `x` of all $x$-coordinates and the tuple `y` of all $y$-coordinates. This is called _tuple unpacking_ in Python. We do this as the plotting method `plt.plot` requires the $x$- and $y$-coordinates separately. We will use both tuples for the evaluation later as well.\n",
    "\n",
    "##### Problem 1.\n",
    "_Find a way to make the plot using [slicing](https://dev.to/duomly/what-is-slicing-in-python-58f2) of `trajectory` instead of tuple unpacking_ (Hint: You will need to convert the list `trajectory` into a `numpy` array first.)"
   ]
  },
  {
   "cell_type": "code",
   "execution_count": 52,
   "metadata": {},
   "outputs": [
    {
     "data": {
      "image/png": "[encoded data removed]",
      "text/plain": [
       "<Figure size 432x288 with 1 Axes>"
      ]
     },
     "metadata": {
      "needs_background": "light"
     },
     "output_type": "display_data"
    }
   ],
   "source": [
    "# Output: plot the trajectory of the projectile\n",
    "\n",
    "# we 'unzip' the list of position vectors into two tuples of x- and y-components and plot the data\n",
    "x,y = zip(*trajectory)\n",
    "\n",
    "plt.plot(np.array(trajectory)[:N+1:(N+1)//100, 0], np.array(trajectory)[:N+1:(N+1)//100, 1], label = 'With Newton-type friction')\n",
    "plt.plot(np.array(trajectory_norm)[:N+1:(N+1)//100, 0], np.array(trajectory_norm)[:N+1:(N+1)//100, 1], label = 'No friction')\n",
    "\n",
    "plt.legend()\n",
    "\n",
    "plt.xlabel(\"$x$-coordinate\")\n",
    "plt.ylabel(\"$y$-coordinate\")\n",
    "\n",
    "plt.show()"
   ]
  },
  {
   "cell_type": "code",
   "execution_count": 64,
   "metadata": {},
   "outputs": [
    {
     "data": {
      "text/plain": [
       "9999.0"
      ]
     },
     "execution_count": 64,
     "metadata": {},
     "output_type": "execute_result"
    }
   ],
   "source": [
    "8//dt"
   ]
  },
  {
   "cell_type": "code",
   "execution_count": 68,
   "metadata": {},
   "outputs": [
    {
     "data": {
      "text/plain": [
       "array([66.31918509,  1.72511901])"
      ]
     },
     "execution_count": 68,
     "metadata": {},
     "output_type": "execute_result"
    }
   ],
   "source": [
    "trajectory[int(6//dt)]"
   ]
  },
  {
   "cell_type": "markdown",
   "metadata": {},
   "source": [
    "Trying to plot the velocity vectors in this way is not a helpful visualisation of the data. (_Try it out and see for yourself!_) Instead, we create separate plots of the $v_x$ and $v_y$ components of the velocity $v(t)$ as a function of time $t$.\n",
    "\n",
    "For this we will need to create a `figure` object with two plots next to each other using the method `subplots` of `matplotlib.pyplot`. This methods returns a _tuple_ consisting of the `figure` object and (a tuple of) `Axes` objects. The `Axes` objects are the ones that have the `plot` method and are used for the respective plots.\n",
    "\n",
    "Since we wish to plot the velocity components over time we need to create the respective time data `t_data` first. We could use a [list comprehension](https://www.programiz.com/python-programming/list-comprehension) to create `t_data`. However, we shall use the `numpy` method `linspace` instead. "
   ]
  },
  {
   "cell_type": "markdown",
   "metadata": {},
   "source": [
    "##### Animation of the trajectory"
   ]
  },
  {
   "cell_type": "code",
   "execution_count": 62,
   "metadata": {},
   "outputs": [
    {
     "data": {
      "text/html": [
       "<video width=\"576\" height=\"432\" controls autoplay loop>\n",
       "  <source type=\"video/mp4\" src=\"data:video/mp4;base64,AAAAHGZ0eXBNNFYgAAACAGlzb21pc28yYXZjMQAAAAhmcmVlAAAuT21kYXQAAAKuBgX//6rcRem9\n",
       "5tlIt5Ys2CDZI+7veDI2NCAtIGNvcmUgMTU1IHIyOTAxIDdkMGZmMjIgLSBILjI2NC9NUEVHLTQg\n",
       "QVZDIGNvZGVjIC0gQ29weWxlZnQgMjAwMy0yMDE4IC0gaHR0cDovL3d3dy52aWRlb2xhbi5vcmcv\n",
       "eDI2NC5odG1sIC0gb3B0aW9uczogY2FiYWM9MSByZWY9MyBkZWJsb2NrPTE6MDowIGFuYWx5c2U9\n",
       "MHgzOjB4MTEzIG1lPWhleCBzdWJtZT03IHBzeT0xIHBzeV9yZD0xLjAwOjAuMDAgbWl4ZWRfcmVm\n",
       "PTEgbWVfcmFuZ2U9MTYgY2hyb21hX21lPTEgdHJlbGxpcz0xIDh4OGRjdD0xIGNxbT0wIGRlYWR6\n",
       "b25lPTIxLDExIGZhc3RfcHNraXA9MSBjaHJvbWFfcXBfb2Zmc2V0PS0yIHRocmVhZHM9NiBsb29r\n",
       "YWhlYWRfdGhyZWFkcz0xIHNsaWNlZF90aHJlYWRzPTAgbnI9MCBkZWNpbWF0ZT0xIGludGVybGFj\n",
       "ZWQ9MCBibHVyYXlfY29tcGF0PTAgY29uc3RyYWluZWRfaW50cmE9MCBiZnJhbWVzPTMgYl9weXJh\n",
       "bWlkPTIgYl9hZGFwdD0xIGJfYmlhcz0wIGRpcmVjdD0xIHdlaWdodGI9MSBvcGVuX2dvcD0wIHdl\n",
       "aWdodHA9MiBrZXlpbnQ9MjUwIGtleWludF9taW49MjUgc2NlbmVjdXQ9NDAgaW50cmFfcmVmcmVz\n",
       "aD0wIHJjX2xvb2thaGVhZD00MCByYz1jcmYgbWJ0cmVlPTEgY3JmPTIzLjAgcWNvbXA9MC42MCBx\n",
       "cG1pbj0wIHFwbWF4PTY5IHFwc3RlcD00IGlwX3JhdGlvPTEuNDAgYXE9MToxLjAwAIAAAAbxZYiE\n",
       "ADf//vbw/gU2O5jQlxHN6J0zH78VuLo0N73OAAADAAADAAA3+gxQ69cxTHrAAAAqIAYAadughg4g\n",
       "GghU0x65e3tp/jfi93BhRpymN7oYwaAYT+FVRbjpqnRpVMHX3Zs95zYmwnYUBXNk9rzX/3T6lJ3D\n",
       "UcADGO+AGI4haUXY//LdnMC7OOH+YLG/HWMKAgnOiCFaVTyd692EKI9k1TpRaVpz0Jm30nfQ0y/S\n",
       "CKFc9isTFOVjMSJGz3NF/IGWuEl0ASbwv5sAu8B/HfbQAHKCtmOJq25C2ts2WqnsIiR1kthRfbw8\n",
       "knWR7Ip8zB4nhXXUjr+OLfpiH0kaspwJXYh38hBhSCe7r23MbwPu5NyyKZvoo5Fda6+xeQU59Cfe\n",
       "nTqfjpKEvaUOXnBQ3T5By5s7iaxeqaJojxWHiP3LjSj9Is0zVeTmpg5oJAAAAwC3j7XpgAAFwqQG\n",
       "j1V34dstXYeBbUZv9YXw6jrLcqzV52kFe8MhzseUE0LJy+S6EF1LXn/oiyFpSDsbFeYYopNUEDHn\n",
       "/M+aVcRjkFnLOCBQ2lQXRFdAHMPeaLLWbwVh2uedaQ9W/GK7BgkXEAcFUKb7lidMvItSz6N0i9p7\n",
       "spZvPvqjmAgoKF4FSVy/u5iyCKPWamO41XK6HG4TBrdXGuh+l7zxsId7FLOElnS19wn0Uq2zxbC6\n",
       "gIk/wpXH9mNvt8nTmb5y1aYDD2xtPrFq2RReAA3FKRhO8C3O844+OxwymZXtsERo2aG4xRrE5z5T\n",
       "HJ8SRRvrVhG9HSgoCIOwB67hM1uh8miKTpj9sE3N5zH2koO6O9mIG8J6DoYQwBBhoUy1h5fk5WPq\n",
       "54BQAzbty6CSjHhVrv9HWOTt/acdI+1eJ+kkgZs/6PYgrcnxGTcgwe5kroPG9ch/FmYcsZdmTt4B\n",
       "vbO/QTq+OXV+mU8MxoHv/OXHW9GivVasXgmSzhPJDg8Ev4DjtkMeufevIsgT9ZgYptqACDHgC0F8\n",
       "dOW6Px2smXpzduAwucEaRWhgKYGNlrGr33HZDTS429fioI/ibOuaLZ/+Cm4Azkyn4cRKNadfv4nI\n",
       "Df2cATmrdZGo63XRLjYGvJ/+8m97bIueLTAtj7Oc6caqEdhgPXAXFpoYCTr6xn4dJ6BQs1voi25q\n",
       "z3pjb7dv9P/3WBpwhSJu6mh0AEuJQXMypH6TUWmKgyziYUoW2FrC6322JW+2ln9KrG04rYpwR/wb\n",
       "wdCgS1VdBA3bvmotvgyneIw6pcd/Zu6D0AgEGcic5iSM+66rqld9Utfw3jWc0iFbQPt4R+eSho+K\n",
       "CI4cuACZ/0AlF8CGeD1oqMZ9W/0DCuVUbWT9M8LG9hATX3QwVzl9hn0K03SRnBMyd4Gp2GN5Vnkv\n",
       "+14+jtTYEgUhzHX/Okq2XkPRhWoOenP3F0lGuKNlf7ovOCsQZ/nw48Ab06BPDiwRAfrEvPN1gpo7\n",
       "MfWpUB6Ezj6xYrGYrnrzEKPZuUBC275XZJQPbljeltqriR6VR7olBr+e2M6NNmIiZVSaMLacujGd\n",
       "qpkrRcwyrGIg+Xmrif/0lQXZ0S51SrwEBaGSH7eW5+0VtlkCRAwjlvTjJ3z36x6dxOTgqt6KhiTy\n",
       "9Hfz83QJAZQNbhpVd2pWJ8iqsQbGNHJKgt2rS/0/HcccZAYwu4QrxNRf6ADIwzqCnDaU7z4m9E6H\n",
       "YrjDTZpBy3HEi4Y4Bh/+944zh9IViOJiI4qhr5aSsUayKBEqqFfaslTIcqgV65LNNgE2cBBbkWPp\n",
       "ujoqLiK38To+EjAo3s0fBwwZ2lk4QwhfkLvT1I0heEe1fg31wcLOAiovf6NhMEKQmdbzAVj7157Y\n",
       "GU5pfOmtHeKdtT20KlOqIAh3zEcWdu3GDUBAthV0Qut6rwLPo9tWcistpp/fQTYbH2sVqHyt0tQf\n",
       "ZsrMW1d/5CbX/LH7beZcySgmERpWZfOYS+3vhcgZLMCzaOKjD+Z93Q0vQPKItMWLJaWL56gKej61\n",
       "hgfmV4xcxrbIWCqd1Cx3QUD4/7FShqNDTMbRFo0zzMMk1xIIRWYQgdVffioFoIrVda40KosEyoGw\n",
       "oiIWWsTXtjxfwDyOI2enj/zRQfxBxQJ+H3N/dpAH/ADqHUOZOfyuV+KEC6uWgDLsditIbrvqGXTU\n",
       "zxq2x4/tRn4cEdGXfzTzqE368h20rSNeCQQ9sLYnu2abIbfH3OPpNBwLe6Mxi5jxQqoEDVKOA00H\n",
       "HyVLsFeGfAsh2g+EQ69zmWi5u1y8rpMIBvdYIPYTIyI6RyHUXbnaNmfH/HbdlDOK2x+JNqQausF8\n",
       "sdtbs/I1NOtw0wr5YmhNMSgHROvr6zmWYDmEtX4PDvWHxjLFgvlYA3Y0fcTv6DYBYzKGfDfMRLkA\n",
       "e90AAAMD9wAAAL9BmiNsQz/+nhAAAD+65+UISVwDUrtWlsUqBtPag4QMCbxIXWOyXpzRUSSqrcS4\n",
       "GGMZeKWPc63QUf/3gCV79xNOWytYdcpD2QDH+ZN+/rplCUTWWn81Tpj85wB0nOmbV3M25GxDMpWj\n",
       "943NiqvIQsf0BsD4tSDXZzIgES2yUahms102AA1EAJ93ctv++oiARmTLnTQ3cJU2UA1B7t4fC5vQ\n",
       "hqfWZaG5RG7sRxh5pjUl8xcu4msCjL6pqrBMlCWhyAAAAB1BnkF4hX8AAA2Ed8WoqCABtR2vIkJl\n",
       "yjpAZF9jhQAAAB8BnmJqQr8AAA2DpePTRh2FWAFR5e0pdMM+BX6QANSAAAAAP0GaZEmoQWiZTAhv\n",
       "//6nhAAAEO4/J4VuUS5Ksy/WFJHeBqFksvFstCqAxfyhZvY29cT4wxDP9Hn9u4tUTwAC2wAAADJB\n",
       "moVJ4QpSZTAhv/6nhAAAEGTRWqieT3XAF6nuyPegPAACQljTdxvp8+8RQzTIwAAFbQAAAHJBmqdJ\n",
       "4Q6JlMFNEw3//qeEAAAo2I8YlxngIKMsrtplgbBW4iijUOEm9zn+rLijlDjPtC7p5Wg6n5AvQpe6\n",
       "YCXeWNQP2hvZGvLKJ7rS+bgWyFHeS4EbZfC8TwXmr4iz7BIZMUXaVsGpCsqwkY8ZZhIAC4kAAAAe\n",
       "AZ7GakK/AAAhuu7VzgCtT45apYHx+OTVwfVQADrhAAAAR0GayUnhDyZTBTw3//6nhAAAKQVw4zJa\n",
       "+3UuIAngy6vOZB0AoaDGfTI5j05e5eM7IsyJFU8QFB4gplTWcThKved1ev/AADFgAAAAFQGe6GpC\n",
       "vwAAIcGQqwIWdEdHgAB3QAAAAEpBmutJ4Q8mUwU8N//+p4QAAGTEyXpq+BAGxf/lHzzUB+yD6s+j\n",
       "029IZr6oOqsYgqQF6lJZ2LC76k6jffd2sZzGwfBOivtpUAAZ8QAAABQBnwpqQr8AAFHTvGoeyDxF\n",
       "UAAHdAAAAD1Bmw1J4Q8mUwU8N//+p4QAAGTAjYtaneAQRAJhcoOhdE5k2WhHFZmr8pUR/UYnVEEm\n",
       "TpXphdRm2UwAAFFAAAAAFQGfLGpCvwAAzjpeRaO8bpKkAACZgQAAAD9Bmy9J4Q8mUwU8O//+qZYA\n",
       "AHoHIsygE8AsfojLjIkwnCoWVFirvffsStwng/VS8T2CBn3DunE3E6qfmlQAAqcAAAAVAZ9OakK/\n",
       "AADJMpBZhMFfSDpWAAHzAAAAT0GbUknhDyZTAh3//qmWAAB6KzrfrGgByJMwA5mmYzqrhecTXOC7\n",
       "7sru+1zKrWTyJDeKGvxaaeLysf4b1GGLLmE9PoYzIR1VTVlYAAADAUkAAAAaQZ9wRRE8K/8AAM5J\n",
       "Yq0oQkBHZdaVQugABvQAAAAXAZ+RakK/AADOOcwu5qazAdvI1QAA9IEAAABPQZuWSahBaJlMCG//\n",
       "/qeEAAJZy0IoD789cwV1Ia4BWr1I3XNMjJGGg4SXAROl+FH2LTMxNVle0y50e5Vm19d+P7RC7Lbs\n",
       "e+luTdfmAABxwAAAABxBn7RFESwv/wADipiBqand7F4+fwkohDawAARsAAAAFwGf03RCvwAB5c05\n",
       "lrlp4zBOxPngABxxAAAAGQGf1WpCvwAE1197TPku2bwzSXSWtQAAqYAAAABOQZvXSahBbJlMCHf/\n",
       "/qmWAAMFxfo2lDtQs1XPpAD7kV3uoLUj5eSuk+t4mfgQvjXH1EiJZmp8E5WwC8OX0yzP0cJhcMAy\n",
       "uj0hp4uAAOmBAAAAYkGb+0nhClJlMCHf/qmWAALwYF1e1wXyEDzAG39VfxqOVrcHVDB8MApnEd3N\n",
       "Z4ce3dylqMn4sPLkk3rC76PgUHsH8E9meZ/n/mm0jJTPwmjGeYk3Zse37biBS5WBi8SAAAHTAAAA\n",
       "HUGeGUU0TC//AAOK1YJz801HEKL2eUomnURgACVgAAAAGQGeOHRCvwAE1c4twxyRQbhZ7kQnXmgA\n",
       "DVkAAAAZAZ46akK/AATXVcPTyt6vJ05pvB5mZQABZQAAAHNBmj9JqEFomUwId//+qZYABydn/BBr\n",
       "7gGqQRU1q48FiiHqbRabauw0/m9yjDAQpcw+8PXWBpT2IFtm8KaEfBN92bcMkqaQKVLXRwd8HWzK\n",
       "ZN+GASv4aVSkd6L+up3dwUjQEzXmYi1NsyYZFnnEMhBAAALbAAAAHUGeXUURLC//AAhudA1OtlOl\n",
       "vpzJhtG83vYgAEXBAAAAFwGefHRCvwAE1dOva+1PA5v5Nd8YAAJGAAAAIgGefmpCvwALpZzEAcos\n",
       "VPEAAUXnZF6+xsOLIfL8DIAAxYAAAABkQZpiSahBbJlMCHf//qmWAChdklAHuH8c9Ux2O9QC9Vy1\n",
       "BxQSbPAhSSl4S1viyQ5UmywovDnDFSg+t7Uc+D+9J1PxA1dVrc7X5+XwqJY+6DPYA4WUJqF95EeP\n",
       "Lr5q/HkwAAALKQAAAB5BnoBFFSwr/wA/gGsM3Jb+6gklQ/e6WEucX1YABAwAAAAYAZ6hakK/AAtd\n",
       "GkPHGmUEOaWmj4YAAJGBAAAATEGapUmoQWyZTAh3//6plgAnP0uFlMXdKo0fdgFrBo/4vY0n5lSA\n",
       "IpicUp6bTObLSl509X7cbLqJ+T9QI2RrCXdN9Q7KJthvoAAAekAAAAAdQZ7DRRUsK/8APiBrC52Y\n",
       "weZ5ypxgBgfm7wAAVsEAAAAYAZ7kakK/AAtW5pf3ZvkPJ5XXenjwAAPnAAAAdkGa6UmoQWyZTAh3\n",
       "//6plgAmP0uGDiMnsIbgEES0rbyIxlqsHOCECuMSyGIlT+jdd6mzu4so3p2q7ZD3PWxIzD/jkvsh\n",
       "znnuEThkO9swbaLoAPdOOwGdDVF3Lw/NwFh6IMxpPlzkuuxENLz+Bv4nr+Y2gAAAg4EAAAAfQZ8H\n",
       "RRUsL/8ALWw6jrQHq+IOqfqu5xlhlSxeAAAPmQAAACYBnyZ0Qr8AG7duABHYuhUc93q+V3E5g6N/\n",
       "3tQkuYW1GRvCwABiwAAAABYBnyhqQr8AG1KCkNHyFl4xmQGAACRgAAAATEGbLUmoQWyZTAh3//6p\n",
       "lgARCfikRxGAG4QtrxfHF8RvtS7rytWNdcZKCRCPUGaM5o7tku/ceekH3F2yaNmDF5K7OiyfpgzA\n",
       "QAAAZ8EAAAAoQZ9LRRUsL/8AFHYFf8zbAJpRcJeHKfi3QzTQM2mMB381/QoRAADqgAAAACUBn2p0\n",
       "Qr8AG42q9YALTn7J7pG33XsDURzX9EW4fdYoMOGQABiwAAAAIgGfbGpCvwAbBjna6g4AiQE6yDpW\n",
       "/ff9XTGBuGeFEk0AAasAAACnQZtxSahBbJlMCHf//qmWACl9klABso2bhGlVhx1XxRyy9WBC8lpW\n",
       "3mvu+jIY4U2PQ0pBu0/bgC/3byTkzx9r4TK5jzgRRDLE5GlFjLVXPHMx4wQEcmgLtZf8LmNdsgCt\n",
       "5fAlv4IdtU1MEQ1yPe4rvZloGf8Ga9VW1CzCBz5vGqcF/AVn2ZkwI9kcICvKUyjjW+VrZFwCWNFP\n",
       "mLVGgwCdgO9RLRQAAvcAAAAuQZ+PRRUsL/8AMP66FSeCq9gBasaVsxDQEqvZRYiYGwVp1vSejE7f\n",
       "h8H58AAFbQAAACEBn650Qr8AGqvmqxsALJr1hGIFei8pK2r0RmmPdogACLgAAAAlAZ+wakK/AEF1\n",
       "/y3QQASoPYPvgEIv1//FJWejDzau7WhDh4ABJwAAAFxBm7NJqEFsmUwUTDv//qmWACpgjmt6Uv7S\n",
       "HATACaVslEjo5A1RuCfk/XUJ8ThancYCyTwXvpf895HPfHc3MeXyGR2VEHNaVdLdkFufL+X9UiIG\n",
       "HwST5t8AAAMDgwAAACEBn9JqQr8AQWeCsAJq80y/NAkkB/u1tf96JWYXMBgABQQAAABhQZvXSeEK\n",
       "UmUwId/+qZYAKTTuVzD/cAg4xK6gg6YmhNwqi9BMOCiIkd+DpkJkkMnjAhWZwukn2ASPqtruuqsA\n",
       "OJMEWwB4qV7cVtWLgzsUrylLnEHILQ8mcLf/c8IAAAMBWwAAACZBn/VFNEwv/wAxAoyAA/FhSFpe\n",
       "L+mVi/fCSnljV/f21M7eEAAHHQAAACABnhR0Qr8AQHjbsAE6zq+/85C/gKrjvoBxN9wCAACvgAAA\n",
       "AB4BnhZqQr8AQWZMQAg+tj7MKUJ/DG/YSyp5pMAAKCEAAABjQZobSahBaJlMCHf//qmWAChcHD2C\n",
       "MJtAAOif1txH0ICzi3yhYEcBGNtg9W4qmABmOM2FQPHEoT3mbC5O5BAJM+wcZnCjahXvwawQjh1z\n",
       "P7FZtg/PiTjJ35jAQjtOAAADAGVBAAAAIEGeOUURLC//AC8m5qIAWtzjRcZkrXy9FDHxyR8AAK+A\n",
       "AAAAIAGeWHRCvwA/fO+AAJwizgSaoUS9krJedBjo5JCAAGfBAAAAGAGeWmpCvwA+w5EaABuDiTfm\n",
       "Y8txoAAR8AAAAGBBml9JqEFsmUwId//+qZYAKBzysAmvw0rh5DtGM5GQF0oRS4wbCKIH7mnvd/wy\n",
       "fbZqWlg7EOWottnQaBD54aF5wugLFsXlTNe+JjJMF3oJ2JGYh7nxVcl0s3f/uAAABi0AAAAkQZ59\n",
       "RRUsL/8AL8FuLOHQATrQg2zdLEOixSx3pTKddvCAADjhAAAAIAGenHRCvwA/fTngANqNGc1kAsj/\n",
       "GExX7FBOS7rAACTgAAAAFwGenmpCvwA9u4l9pD2xPyZi4KYgAAr4AAAAT0Gag0moQWyZTAh3//6p\n",
       "lgAnAkAal6jXUAn6fYvtP9K+TLRwgqs/7ZxSLUK03EYG3DEenBYQhD4KOBa8lAlSr8He+yaZtpMv\n",
       "1wAAAwAAf4EAAAAhQZ6hRRUsL/8ALoY2zABO18f+43cSRqUj9/bUzt4QAAccAAAAFwGewHRCvwA9\n",
       "16EhXedsTPmYuCmIAAK/AAAAHgGewmpCvwA+U54ADaiL5bA+/lgRb/sNKE8umAAFBAAAACVBmsdJ\n",
       "qEFsmUwId//+qZYAJicaY5AP2YALSmd+8uJacqAAABLxAAAAGEGe5UUVLC//ACzhS+dO3qVVG3tM\n",
       "QAAV8QAAABQBnwR0Qr8APLlybp7qMK3BkAAFfQAAABQBnwZqQr8APLwQ97425Nl9NAACPwAAAEhB\n",
       "mwtJqEFsmUwId//+qZYAYL20Hk6/gEGVEJk+b8PxwRgwx59xiRM/Q2egqKXSf6jrUBACevy547jg\n",
       "5cu78ndpbv6cEAAAEjAAAAAXQZ8pRRUsL/8ALWwhUMZfjOB7QkAAHHAAAAAWAZ9IdEK/ADx3o3CW\n",
       "uXnCwr/7EAAM+QAAABYBn0pqQr8AO1RVS0lzPiMdC1IgABnwAAAAYkGbT0moQWyZTAh3//6plgAl\n",
       "EozIhAIOeIIX1X3i1dfPYAJ9y/31bdDO1wGegktRwfBH8BkOqAEADgLY7/+OheSoiVJ+dKDCXYJe\n",
       "8ZCAEfTQBN3w26XxYPbkDv6OcAAAAwNmAAAAJUGfbUUVLC//ACu2BEZ8PpwAD9z7Ay4h4di145d9\n",
       "xe9OLEQAAV8AAAAUAZ+MdEK/ADqwz/ClnmJKRxoAAR8AAAAYAZ+OakK/ADqkEWc0GuiJvzMeW40A\n",
       "AI+BAAAAUUGbk0moQWyZTAh3//6plgAk/5mhVmaAHj1F9k/jIjWDzV9V2297Kp8AaHH+SJ/HPxgM\n",
       "S+Gdz+O+FbO0cv/PqBmYvhFTQvohUmzBcAAAAwAIeAAAABtBn7FFFSwv/wAsTBCkgYtlGpD6SUGK\n",
       "HgAAwYAAAAAXAZ/QdEK/ADtb5poNz8ODbE28EgAA44EAAAAcAZ/SakK/ADou3AAPrTJPR6ICzaJt\n",
       "0UfhAADPgAAAAFNBm9dJqEFsmUwId//+qZYAI/+amigxigCKaMejmyxhHIsvjTqMfZUP0df4okvG\n",
       "XWC0qeXW41x6ulTqAKKYZ/APKQF3PYiNUKs3+LiLlgIAAAMBiwAAACNBn/VFFSwv/wArLPyAA/no\n",
       "Itn8VzILSN5TzQ9dDvVTwAAg4QAAACMBnhR0Qr8AOe+8gFgAltRb+ji9EZznbwMqBP7CWVfNJgAB\n",
       "QQAAACABnhZqQr8AOigWACIL71s5SMx7X9ddf6YEfPPZAABXwQAAAF5BmhtJqEFsmUwId//+qZYA\n",
       "IwYIs8Ag9bWi0SKg/iHt7/u53dNKw9GYGgoDBCc8qqhlRutcTEhoqTD/nCztpgo3q5LS1YY8GZNv\n",
       "ycP9xjPOcxoL92ZhvhaSXQAAAwJfAAAAJ0GeOUUVLC//ACoMOWzImNt9vAEMrILsQGYsNl4T/w50\n",
       "mdwXAADugAAAAB8Bnlh0Qr8AOJzvgACdvKnyuiDHFHXx6JWVPMBgABQRAAAAIQGeWmpCvwAXTkEr\n",
       "8vFACGISI8kq+TO/f2GlK+7RAABxwAAAAGVBml9JqEFsmUwIb//+p4QAG54ElwD50zlT2+Hmi5mt\n",
       "dmRE8JsCBxgavJs8b8pNwj1qvplwYDO4c4PC2gFXTj4+eYIIT512m4c97vKDWoO8vP+r5TAN47Wf\n",
       "glf7GcV5pz2AAACggQAAACVBnn1FFSwv/wAQ3i0liwALqPXBjSeL3oQWwd//TtqUZqMAAKCBAAAA\n",
       "JQGenHRCvwAXRLai6ABcJO+HM0ClLjJ6O/fpAT99GHqDc8wABFwAAAAZAZ6eakK/ABdK9JP5amDm\n",
       "tTI66Q5NMAAGXAAAAEBBmoFJqEFsmUwUTDv//qmWAA3kf4QFCuo8VsANls3JVN+j33+fvikvRrPZ\n",
       "NGuMGX1+oFhsCxEQ77Mn54QAAAfNAAAAFwGeoGpCvwAWHlZdrmjCqTMbo40AAI+AAAAAg0GapUnh\n",
       "ClJlMCHf/qmWAA2Y7FKOxwDPyqqVrwswhQNOoTP/NcDRHFEbbaYqlrq0RyuMmeDyZ0yohaGdmQsK\n",
       "Gg+bWL61KUDnp+3Ib7SHP1xX4A9TwEx25+0Ek0R7N6Yh9G4UKKJua1yQpjNNsM70ZRWa3FMaYwsk\n",
       "vi0LsVi/DBAAAH3BAAAALEGew0U0TC//AA/gEwAA43p0AcJdzCaNSOW8bx4ZcMj3FCP4wr4r51MA\n",
       "AKCAAAAAGAGe4nRCvwAV4BPhBmweYTjpZ6sPAABgwQAAACIBnuRqQr8AFjXLABdR2fh6NdvcqgJh\n",
       "XVl/d5aS/QjAABlxAAAAYUGa6UmoQWiZTAhv//6nhAAaWPDoJUxaUe6hK/yLOF/xisHuA0pAufup\n",
       "+g8xT1kQC0k0MRxmfnPZKI/fp9Kkj/WEZyJhrRnHxskiuSEdpgGJ9DognEqgGiiYaw8CdAAACHkA\n",
       "AAAdQZ8HRREsL/8AD4fF9b/Ojpm56hii2iVrUwAAoIEAAAAVAZ8mdEK/AAhu7zqXRFfCSWQgABnw\n",
       "AAAAFQGfKGpCvwAIa9bTx008jM5SEAAM+AAAAFRBmyxJqEFsmUwIb//+p4QACoVi+UJ3wCjbP53O\n",
       "U0eJUVzH7FIFipYZyVJUyFmiQLM4ls4P9WB08M0WFxYfbT7zKD/QBOAvRVcTptWO8WRkYAAABD0A\n",
       "AAAiQZ9KRRUsK/8ACGWuXYANu8lbONN1sPr3ge5mP0GzcAAGDAAAABgBn2tqQr8ACGc3lxpK5S1m\n",
       "YRpfwmAAFBAAAABLQZtuSahBbJlMFEwz//6eEAAo2O0oDN9eAa6svPsi7HqKgMbHRojHethLih2b\n",
       "YtDQiq+kl+sL5P4iys3PDy8At50CNWzBbLAAAMCBAAAAGgGfjWpCvwAIbIbp4lQy9Pd3bxss07eA\n",
       "ABQRAAAAIkGbj0nhClJlMCG//qeEAAo2+HQDFG8wUNGYpqC3yYAABqUAAAAaQZuwSeEOiZTAhv/+\n",
       "p4QAA/dwin9y3gAAEvAAAAAhQZvRSeEPJlMCHf/+qZYAAgBTZRu2YAqdlNf7plQAACygAAAAX0Gb\n",
       "9UnhDyZTAh3//qmWAAH/9VHgOjP//9oQCr8GfL6qAHjiJtbipR6iphol62gJQ1Cml3u7PyaQHZZB\n",
       "e8JE84M3DO1/Er7/NrlQ549HX+9TEddB1xqDl/mK4AAAAwE3AAAAFUGeE0URPC//AAJpwB0f9ME0\n",
       "AAAKGAAAABEBnjJ0Qr8AA0z1TEp0AAApIAAAABMBnjRqQr8AA0odn6m85qwAACFhAAAAO0GaOEmo\n",
       "QWiZTAh3//6plgAB8xogsyzwKgJZ0GWxH2xzN/P3Br9oNT4JqdVm2kxi5PL13BtPfcdAAAOOAAAA\n",
       "FEGeVkURLCv/AAM4QoYKJEuAAAOXAAAAEgGed2pCvwABUK9taJExYAACrwAAAFdBmnxJqEFsmUwI\n",
       "d//+qZYAAMqm2DG+hTzsqgCav+w+y66VPg++Cwy65JjoLDf3r70Yji+JzmjIcruZcFf8XRctco04\n",
       "U+Hd6xof7GSUEocz2GxhLAAAgYAAAAAZQZ6aRRUsL/8AAPNED67uNdXF2suiEAAErQAAABQBnrl0\n",
       "Qr8AAVBJkpJ/0lfDGAABDwAAAB0BnrtqQr8AAVCvCW6feeAFvHRWSbbBZ8808AARMQAAAHNBmqBJ\n",
       "qEFsmUwId//+qZYAAMpJgkAtd0AlRl8/TsbsaqLfapbkTtZUaXMyzxJrYvTGLKI2lylu059iTTuo\n",
       "TDc+1Rh3YNxYsDQY2AePo8YjDieRqNUsMPgPfF1yfVmZPgfRx8GTFmqjx4CMxzaQRuJbGvG/AAAA\n",
       "F0Ge3kUVLC//AADzREkhFAWmIbusAAI+AAAAHwGe/XRCvwABUEtjYe1bzKAM+REbD2Jb2BRIaqgA\n",
       "Ax4AAAATAZ7/akK/AAFQr/qrkif5cAAHpQAAAEpBmuRJqEFsmUwId//+qZYAAE5YgyDTJPoBs/AD\n",
       "+ecFlWMlqiESapXF66pO7VPKQZ8vbLvnpD7Z+LNtlXoTGwziSo8egAPt0AAFBAAAACBBnwJFFSwv\n",
       "/wAA80Rf/axjugA/dDVXhYwyRnmPeAAM+QAAABUBnyF0Qr8AAVBMNp8micCNRUAAAwIAAAAgAZ8j\n",
       "akK/AAFQr/qmgVEmFAJNQnrFtTPLB378HrQADqkAAABQQZsmSahBbJlMFEw7//6plgAAxnJKyNUV\n",
       "ArAjzV2B83UBbW9g4UELJ1VIuntc6uzM7XQJ3lvO9KaMTHuKjVF0JhvL/PGNBuniEjifEVAADFkA\n",
       "AAAiAZ9FakK/AAFQ5QMw3jW8/CFADbVFj9NxzmyaqyK9AACpgQAAAF5Bm0pJ4QpSZTAh3/6plgAA\n",
       "Hp/r8SgFJBQuj4cI34hTzspWIp8KjkfDHj+vCPjPoPtRupCFAZLdfRGojyPAw+wcvULIgrTvAVGR\n",
       "023PQWbeFDNXezNDYu8DqKpHTZzdAAAAIEGfaEU0TC//AADzNX7N9iHfaSlewAcVpNXS79g8AA3o\n",
       "AAAAFAGfh3RCvwABUEws5e/VHllAAF3AAAAAFQGfiWpCvwABUK/w5/2Q6suxToABVwAAAExBm45J\n",
       "qEFomUwId//+qZYAAAwIQdTi9nhHRQgFfdcjCy5MjAwfoUkQi74LRlucq260F1NzdQDL5Ln547AG\n",
       "W1OKzevR7ioRMmKgADugAAAAFkGfrEURLC//AADzRF5NkWR0Mi2gAQcAAAATAZ/LdEK/AAFQTCkP\n",
       "aLmJygAHTQAAABQBn81qQr8AAVCv7QWNzvidVwADKwAAAEFBm9BJqEFsmUwUTDv//qmWAAAMBKFo\n",
       "A3CEmuaoz7FP4/izyo40XlzNUjOg3uULVkwJs2wZBRGPL2sUSN2rmAAqYQAAAB4Bn+9qQr8AAVDk\n",
       "yX7/q/wUtJADfb6PjftnOXRgAj4AAABJQZv0SeEKUmUwId/+qZYAAATFYBaaykAxJqMLO8Hra+Dh\n",
       "GpcrfUKveb1YxUuelvhXhozGpysNGdyIiWduir3Npc2c5XAphsAD5gAAABlBnhJFNEwv/wAA8zV+\n",
       "G72lb+16AUf7wAW1AAAAFQGeMXRCvwABUEwnfdZVd+wfhYALaAAAABcBnjNqQr8AAVCv63fIulWb\n",
       "/Hy3pACJgAAAADJBmjhJqEFomUwId//+qZYAAAMB0qw4HPPUBJP3QBX552ClRtnD7R2nIEUJCKUD\n",
       "KgAYsQAAABVBnlZFESwv/wAA80ReCIdeMRQoARsAAAATAZ51dEK/AAFQTCbjXEkTYlABgQAAABUB\n",
       "nndqQr8AAVCv6uRSEdm1DcsAI2EAAABRQZp7SahBbJlMCHf//qmWAAADAdHdkesc70AWuZfgYNfh\n",
       "hgRirqYKEre6nNc2v0fgk9PAKPq4mmxPh3cwIjwfh4jp1XH0jGDVnn1LbsIYAKSAAAAAGUGemUUV\n",
       "LCv/AAFQ5Mjc/SDNx1FTSL2gE7EAAAAUAZ66akK/AAFQr+qnxT5EyWxYBJwAAABUQZq/SahBbJlM\n",
       "CHf//qmWAAADALwdsWKzkBKL/I7Z4TR0lQiR1g4BjrQkjCL9F9Di5VXauR5EB9CCOqiMjEfomzJM\n",
       "0kZfiMJRUpSU0ELVb0qSAsyhAAAAJUGe3UUVLC//AADzRF4IRM4vMwQC0OF3gBuaaVvqiWhgiMeA\n",
       "RcEAAAAVAZ78dEK/AAFQTCanxJM5JvuKwAHdAAAAFgGe/mpCvwABUK/qpq0ONirQChLIC2gAAAAu\n",
       "QZrhSahBbJlMFEw7//6plgAAAwBIaeCZkSPZ55sAmvIrCinClJ2qPW42pOADewAAABYBnwBqQr8A\n",
       "AVDkyNxQaWEMjZoXAOmAAAAAPUGbBUnhClJlMCHf/qmWAAADAEhYe6NMv5sAyKqHcdHZzDzvmLK1\n",
       "LlZWU6b04hQ92TdAgMroD7vwKB6AK2EAAAAdQZ8jRTRML/8AAPM1fghAejGQQRq60n5zP3rA5YAA\n",
       "AAAWAZ9CdEK/AAFQTCaPhUrULbpYugBLwQAAABYBn0RqQr8AAVCv6o+K/RY5uiFWjoFBAAAAOkGb\n",
       "SUmoQWiZTAhv//6nhAAAAwA4vd+RVWwAVCjFZiUoWI/nSuA9p//Qrcmv6Xjtvy/4fJsPCtbggeEA\n",
       "AAAaQZ9nRREsL/8AAPNEXghEzeGUm78f/9cJCRkAAAAaAZ+GdEK/AAFQTCaPhXwWLfV1+QK/0BXc\n",
       "CXgAAAAXAZ+IakK/AAFQr+qPivv76Ms3ajcwYEAAAAA/QZuNSahBbJlMCG///qeEAAADABYysYc9\n",
       "Uug5KIQBnlpsJOREXLZP/EV/myK43934ZGan+26sjMpCTkhdTBixAAAAHUGfq0UVLC//AADzRF4I\n",
       "RM3hlJiCNtpuPsKyhmI+AAAAFgGfynRCvwABUEwmj4V69kr5Wt4gesAAAAAWAZ/MakK/AAFQr+qP\n",
       "ivv27CFJC+GH+QAAACtBm85JqEFsmUwIb//+p4QAAAMACKfS+FTdjucGg4ALWP3sXYx617c+/wOP\n",
       "AAAAMEGb8EnhClJlMFFSw7/+qZYAAAMABGXcLo6dY4BK9UKtMWbKH89WWjaTrGu92+8BFwAAABcB\n",
       "ng9qQr8AAAMAdZPWYM+H8WZVKXRIwAAAADlBmhRJ4Q6JlMCHf/6plgAAAwAEYNpqAHQyP7J0CmXL\n",
       "937TEfsWiXUuB5G+eO46S9J1TyDapgdmHpAAAAAkQZ4yRRU8L/8AAAMCG1rLbNJ5lXZCbORaAFV8\n",
       "LaNzU01sxsb9AAAAFQGeUXRCvwAAAwB2uAmEIwJw4nqBqQAAABUBnlNqQr8AAAMAdtlJDTe9Y3J4\n",
       "rYAAAABAQZpYSahBaJlMCG///qeEAAADAAN2d7l7aickAhDOKr59EPckW9B68O2DVeHQe5FrWsPY\n",
       "XRcuRAnYV6VyEKpLCQAAABxBnnZFESwv/wAAAwIb5y6/qkqB19ugbjIIL4I2AAAAFwGelXRCvwAA\n",
       "AwB2uAkNUiufSUatF7abAAAAFgGel2pCvwAAAwB22UkLcZ6fHZaTpe0AAABBQZqcSahBbJlMCG//\n",
       "/qeEAAADAAFaRYd6jcTFMq1XAgBYfbrg1tKGL1svGdj7fLch7lQw56QuHQs9WO90/nv0j4AAAAAb\n",
       "QZ66RRUsL/8AAAMCG+cuv6pKeN381rkM5Hu3AAAAFwGe2XRCvwAAAwB2uAkLUojOX2pLMFoQAAAA\n",
       "FQGe22pCvwAAAwB22UkLcag8Y14IYQAAADZBmt1JqEFsmUwIb//+p4QAAAMAAIcwwcBQBwRCc8uT\n",
       "Trphdhd3vQFGIPSUK7+cRfgHylne9H0AAAAsQZr/SeEKUmUwUVLDf/6nhAAAAwAAhzDB50AFYu6l\n",
       "vvzPk2vmcS+k4fG61IAAAAAWAZ8eakK/AAADAHWT1lLoFhz+IY02YAAAAC9BmwNJ4Q6JlMCGf/6e\n",
       "EAAAAwAA0q7SI4ULABFPT3y/NT63XuBuM6HG90HEsSmLgQAAACNBnyFFFTwv/wAAAwIbWsts0nlU\n",
       "NOHzaMcegBLJFuSIPKHyKQAAABYBn0B0Qr8AAAMAdrgIxLNo9EMS4v+xAAAAFgGfQmpCvwAAAwB2\n",
       "2UjEsr6P2X4//2AAAAAtQZtHSahBaJlMCFf//jhAAAADAAFIJQIIdqrukCSCER4IAS2FtzKlXAws\n",
       "RsyHAAAAIEGfZUURLC//AAADAhvnLr+qSQkr+OdqMHTByT3gCDxBAAAAFQGfhHRCvwAAAwB2uAjB\n",
       "2XjYmsqegQAAABgBn4ZqQr8AAAMAdtlIwdpQT040L1JBzz0AAAw+bW9vdgAAAGxtdmhkAAAAAAAA\n",
       "AAAAAAAAAAAD6AAAH0AAAQAAAQAAAAAAAAAAAAAAAAEAAAAAAAAAAAAAAAAAAAABAAAAAAAAAAAA\n",
       "AAAAAABAAAAAAAAAAAAAAAAAAAAAAAAAAAAAAAAAAAAAAAAAAgAAC2h0cmFrAAAAXHRraGQAAAAD\n",
       "AAAAAAAAAAAAAAABAAAAAAAAH0AAAAAAAAAAAAAAAAAAAAAAAAEAAAAAAAAAAAAAAAAAAAABAAAA\n",
       "AAAAAAAAAAAAAABAAAAAAkAAAAGwAAAAAAAkZWR0cwAAABxlbHN0AAAAAAAAAAEAAB9AAAAEAAAB\n",
       "AAAAAArgbWRpYQAAACBtZGhkAAAAAAAAAAAAAAAAAAAyAAABkABVxAAAAAAALWhkbHIAAAAAAAAA\n",
       "AHZpZGUAAAAAAAAAAAAAAABWaWRlb0hhbmRsZXIAAAAKi21pbmYAAAAUdm1oZAAAAAEAAAAAAAAA\n",
       "AAAAACRkaW5mAAAAHGRyZWYAAAAAAAAAAQAAAAx1cmwgAAAAAQAACktzdGJsAAAAs3N0c2QAAAAA\n",
       "AAAAAQAAAKNhdmMxAAAAAAAAAAEAAAAAAAAAAAAAAAAAAAAAAkABsABIAAAASAAAAAAAAAABAAAA\n",
       "AAAAAAAAAAAAAAAAAAAAAAAAAAAAAAAAAAAAAAAAGP//AAAAMWF2Y0MBZAAe/+EAGGdkAB6s2UCQ\n",
       "N6EAAAMAAQAAAwAyDxYtlgEABmjr48siwAAAABx1dWlka2hA8l8kT8W6OaUbzwMj8wAAAAAAAAAY\n",
       "c3R0cwAAAAAAAAABAAAAyAAAAgAAAAAUc3RzcwAAAAAAAAABAAAAAQAABgBjdHRzAAAAAAAAAL4A\n",
       "AAABAAAEAAAAAAEAAAgAAAAAAgAAAgAAAAACAAAEAAAAAAEAAAYAAAAAAQAAAgAAAAABAAAGAAAA\n",
       "AAEAAAIAAAAAAQAABgAAAAABAAACAAAAAAEAAAYAAAAAAQAAAgAAAAABAAAGAAAAAAEAAAIAAAAA\n",
       "AQAACAAAAAACAAACAAAAAAEAAAoAAAAAAQAABAAAAAABAAAAAAAAAAEAAAIAAAAAAQAABAAAAAAB\n",
       "AAAKAAAAAAEAAAQAAAAAAQAAAAAAAAABAAACAAAAAAEAAAoAAAAAAQAABAAAAAABAAAAAAAAAAEA\n",
       "AAIAAAAAAQAACAAAAAACAAACAAAAAAEAAAgAAAAAAgAAAgAAAAABAAAKAAAAAAEAAAQAAAAAAQAA\n",
       "AAAAAAABAAACAAAAAAEAAAoAAAAAAQAABAAAAAABAAAAAAAAAAEAAAIAAAAAAQAACgAAAAABAAAE\n",
       "AAAAAAEAAAAAAAAAAQAAAgAAAAABAAAGAAAAAAEAAAIAAAAAAQAACgAAAAABAAAEAAAAAAEAAAAA\n",
       "AAAAAQAAAgAAAAABAAAKAAAAAAEAAAQAAAAAAQAAAAAAAAABAAACAAAAAAEAAAoAAAAAAQAABAAA\n",
       "AAABAAAAAAAAAAEAAAIAAAAAAQAACgAAAAABAAAEAAAAAAEAAAAAAAAAAQAAAgAAAAABAAAKAAAA\n",
       "AAEAAAQAAAAAAQAAAAAAAAABAAACAAAAAAEAAAoAAAAAAQAABAAAAAABAAAAAAAAAAEAAAIAAAAA\n",
       "AQAACgAAAAABAAAEAAAAAAEAAAAAAAAAAQAAAgAAAAABAAAKAAAAAAEAAAQAAAAAAQAAAAAAAAAB\n",
       "AAACAAAAAAEAAAoAAAAAAQAABAAAAAABAAAAAAAAAAEAAAIAAAAAAQAACgAAAAABAAAEAAAAAAEA\n",
       "AAAAAAAAAQAAAgAAAAABAAAKAAAAAAEAAAQAAAAAAQAAAAAAAAABAAACAAAAAAEAAAYAAAAAAQAA\n",
       "AgAAAAABAAAKAAAAAAEAAAQAAAAAAQAAAAAAAAABAAACAAAAAAEAAAoAAAAAAQAABAAAAAABAAAA\n",
       "AAAAAAEAAAIAAAAAAQAACAAAAAACAAACAAAAAAEAAAYAAAAAAQAAAgAAAAADAAAEAAAAAAEAAAoA\n",
       "AAAAAQAABAAAAAABAAAAAAAAAAEAAAIAAAAAAQAACAAAAAACAAACAAAAAAEAAAoAAAAAAQAABAAA\n",
       "AAABAAAAAAAAAAEAAAIAAAAAAQAACgAAAAABAAAEAAAAAAEAAAAAAAAAAQAAAgAAAAABAAAKAAAA\n",
       "AAEAAAQAAAAAAQAAAAAAAAABAAACAAAAAAEAAAYAAAAAAQAAAgAAAAABAAAKAAAAAAEAAAQAAAAA\n",
       "AQAAAAAAAAABAAACAAAAAAEAAAoAAAAAAQAABAAAAAABAAAAAAAAAAEAAAIAAAAAAQAABgAAAAAB\n",
       "AAACAAAAAAEAAAoAAAAAAQAABAAAAAABAAAAAAAAAAEAAAIAAAAAAQAACgAAAAABAAAEAAAAAAEA\n",
       "AAAAAAAAAQAAAgAAAAABAAAIAAAAAAIAAAIAAAAAAQAACgAAAAABAAAEAAAAAAEAAAAAAAAAAQAA\n",
       "AgAAAAABAAAGAAAAAAEAAAIAAAAAAQAACgAAAAABAAAEAAAAAAEAAAAAAAAAAQAAAgAAAAABAAAK\n",
       "AAAAAAEAAAQAAAAAAQAAAAAAAAABAAACAAAAAAEAAAoAAAAAAQAABAAAAAABAAAAAAAAAAEAAAIA\n",
       "AAAAAQAABAAAAAABAAAGAAAAAAEAAAIAAAAAAQAACgAAAAABAAAEAAAAAAEAAAAAAAAAAQAAAgAA\n",
       "AAABAAAKAAAAAAEAAAQAAAAAAQAAAAAAAAABAAACAAAAAAEAAAoAAAAAAQAABAAAAAABAAAAAAAA\n",
       "AAEAAAIAAAAAAQAABAAAAAABAAAGAAAAAAEAAAIAAAAAAQAACgAAAAABAAAEAAAAAAEAAAAAAAAA\n",
       "AQAAAgAAAAABAAAKAAAAAAEAAAQAAAAAAQAAAAAAAAABAAACAAAAABxzdHNjAAAAAAAAAAEAAAAB\n",
       "AAAAyAAAAAEAAAM0c3RzegAAAAAAAAAAAAAAyAAACacAAADDAAAAIQAAACMAAABDAAAANgAAAHYA\n",
       "AAAiAAAASwAAABkAAABOAAAAGAAAAEEAAAAZAAAAQwAAABkAAABTAAAAHgAAABsAAABTAAAAIAAA\n",
       "ABsAAAAdAAAAUgAAAGYAAAAhAAAAHQAAAB0AAAB3AAAAIQAAABsAAAAmAAAAaAAAACIAAAAcAAAA\n",
       "UAAAACEAAAAcAAAAegAAACMAAAAqAAAAGgAAAFAAAAAsAAAAKQAAACYAAACrAAAAMgAAACUAAAAp\n",
       "AAAAYAAAACUAAABlAAAAKgAAACQAAAAiAAAAZwAAACQAAAAkAAAAHAAAAGQAAAAoAAAAJAAAABsA\n",
       "AABTAAAAJQAAABsAAAAiAAAAKQAAABwAAAAYAAAAGAAAAEwAAAAbAAAAGgAAABoAAABmAAAAKQAA\n",
       "ABgAAAAcAAAAVQAAAB8AAAAbAAAAIAAAAFcAAAAnAAAAJwAAACQAAABiAAAAKwAAACMAAAAlAAAA\n",
       "aQAAACkAAAApAAAAHQAAAEQAAAAbAAAAhwAAADAAAAAcAAAAJgAAAGUAAAAhAAAAGQAAABkAAABY\n",
       "AAAAJgAAABwAAABPAAAAHgAAACYAAAAeAAAAJQAAAGMAAAAZAAAAFQAAABcAAAA/AAAAGAAAABYA\n",
       "AABbAAAAHQAAABgAAAAhAAAAdwAAABsAAAAjAAAAFwAAAE4AAAAkAAAAGQAAACQAAABUAAAAJgAA\n",
       "AGIAAAAkAAAAGAAAABkAAABQAAAAGgAAABcAAAAYAAAARQAAACIAAABNAAAAHQAAABkAAAAbAAAA\n",
       "NgAAABkAAAAXAAAAGQAAAFUAAAAdAAAAGAAAAFgAAAApAAAAGQAAABoAAAAyAAAAGgAAAEEAAAAh\n",
       "AAAAGgAAABoAAAA+AAAAHgAAAB4AAAAbAAAAQwAAACEAAAAaAAAAGgAAAC8AAAA0AAAAGwAAAD0A\n",
       "AAAoAAAAGQAAABkAAABEAAAAIAAAABsAAAAaAAAARQAAAB8AAAAbAAAAGQAAADoAAAAwAAAAGgAA\n",
       "ADMAAAAnAAAAGgAAABoAAAAxAAAAJAAAABkAAAAcAAAAFHN0Y28AAAAAAAAAAQAAACwAAABidWR0\n",
       "YQAAAFptZXRhAAAAAAAAACFoZGxyAAAAAAAAAABtZGlyYXBwbAAAAAAAAAAAAAAAAC1pbHN0AAAA\n",
       "Jal0b28AAAAdZGF0YQAAAAEAAAAATGF2ZjU4LjEwLjEwMA==\n",
       "\">\n",
       "  Your browser does not support the video tag.\n",
       "</video>"
      ],
      "text/plain": [
       "<IPython.core.display.HTML object>"
      ]
     },
     "execution_count": 62,
     "metadata": {},
     "output_type": "execute_result"
    },
    {
     "data": {
      "image/png": "[encoded data removed]",
      "text/plain": [
       "<Figure size 576x432 with 1 Axes>"
      ]
     },
     "metadata": {
      "needs_background": "light"
     },
     "output_type": "display_data"
    }
   ],
   "source": [
    "# Setting up the plotting figure\n",
    "anim_fig, anim_ax = plt.subplots(figsize = (8,6))\n",
    "\n",
    "# frames per second\n",
    "fps = 25\n",
    "\n",
    "# Saving the line2D object we will use for plots\n",
    "line, = plt.plot([], [])\n",
    "\n",
    "# Setting scale and range of coordinate axis. \n",
    "# To do: determine from inputs automatically\n",
    "anim_ax.set_xlim(int(np.floor(np.min(x))), int(np.ceil(np.max(x))))\n",
    "anim_ax.set_ylim(int(np.floor(np.min(y))), int(np.ceil(np.max(y))))\n",
    "\n",
    "# Called for each frame to plot the data until the index `frame`\n",
    "def update(frame):\n",
    "    step = int(np.ceil(N/(t_final*fps))) # you migh get an index error\n",
    "    line.set_data(x[:frame*step] , y[:frame*step])\n",
    "    return line,\n",
    "\n",
    "# create the animation object using the figure `anim_fig` by calling the function update for each value in the list `frame`\n",
    "# Use 50 frames per second, so the delay between each frame is 20 ms\n",
    "ani = FuncAnimation(anim_fig, update, frames=range(np.around(t_final*fps)), interval = 1000//fps,\n",
    "                     blit=True)\n",
    "\n",
    "HTML(ani.to_html5_video())"
   ]
  },
  {
   "cell_type": "code",
   "execution_count": null,
   "metadata": {},
   "outputs": [],
   "source": [
    "# Plotting the v_x and v_y components over time\n",
    "\n",
    "# We create a figure with two plots next to each other\n",
    "# fig is the figure object, ax is the axes object which we use to plot in\n",
    "fig, ax = plt.subplots(1,2, figsize= (15,4)) \n",
    "\n",
    "# we 'unzip' the list of velocity vectors into two tuples of v_x- and v_y-components\n",
    "vx, vy = zip(*vel_data)\n",
    "\n",
    "# we create the time data using linspace (look up what it does!)\n",
    "t_data = np.linspace(0, t_final, N+1)\n",
    "\n",
    "ax[0].set_xlabel(\"time $t$\", fontsize=12)\n",
    "ax[0].set_ylabel(\"$v_x$\", fontsize=14)\n",
    "ax[0].plot(t_data, vx)\n",
    "\n",
    "ax[1].set_xlabel(\"time $t$\", fontsize=12)\n",
    "ax[1].set_ylabel(\"$v_y$\", fontsize=14)\n",
    "ax[1].plot(t_data, vy)\n",
    "\n",
    "# plot the results\n",
    "plt.show()"
   ]
  },
  {
   "cell_type": "markdown",
   "metadata": {},
   "source": [
    "We can see from the graphs that the $v_x$ component stays constant, whereas the $v_y$ component decreases uniformly from the initial value $v_{0,y}$ as we would expect."
   ]
  },
  {
   "cell_type": "markdown",
   "metadata": {},
   "source": [
    "### Evaluation"
   ]
  },
  {
   "cell_type": "markdown",
   "metadata": {},
   "source": [
    "The main reason why we have picked the well-known _projectile motion_ for our first simulation is because we can use the _SUVAT_ equations to calculate the position and velocity for each time $t$ directly and compare this with the results of the _Euler method_. \n",
    "\n",
    "#### Position\n",
    "Using _SUVAT_ the position $r(t)$ for each time $t$ is given by:\n",
    "\n",
    "$$\n",
    "  r(t) = r_0 + v_0\\, t + \\frac{1}{2}g\\, t^2\n",
    "$$\n",
    "\n",
    "Firstly, we compare the trajectories obtained by the _Euler method_ with the one obtained analytically from _SUVAT_ by plotting both in the same graph. We will create the data for the trajectory `trajectory_analytic` calculated from _SUVAT_ using a  [list comprehension](https://www.programiz.com/python-programming/list-comprehension). There are two things we have to be careful about\n",
    "\n",
    "1. Unlike the _Euler method_ that uses the time step $\\Delta t$, the _SUVAT_ equation needs the time $t$ at each step as a parameter. We can calculate $t$ by multiplying $\\Delta t$ with the number of the current time step $k$\n",
    "\n",
    "$$ t = \\Delta t \\cdot k$$\n",
    "\n",
    "2. Although we run through $N$ time steps, the length of our list is $N+1$ as it includes the initial value, too. We have to run our _SUVAT_ calculation for $N+1$ steps to match that. "
   ]
  },
  {
   "cell_type": "code",
   "execution_count": null,
   "metadata": {},
   "outputs": [],
   "source": [
    "# Compare the trajectories calculated with Euler vs SUVAT\n",
    "\n",
    "# Calculate the trajectory using SUVAT and a list comprehension\n",
    "trajectory_analytic = [pos_init + vel_init * (k*dt) + 1/2 * g * (k*dt)**2 for k in range(N+1)]\n",
    "\n",
    "# Use tuple unpacking to obtain tuples of x- and y-coordinates of the list of position vectors\n",
    "x_analytic, y_analytic = zip(*trajectory_analytic) \n",
    "\n",
    "# Plot both trajectories in one graph\n",
    "plt.plot(x,y, label = 'Euler')\n",
    "plt.plot(x_analytic, y_analytic, label = 'Analytic')\n",
    "\n",
    "# Show the legend and the graph\n",
    "plt.legend()\n",
    "plt.show()\n"
   ]
  },
  {
   "cell_type": "markdown",
   "metadata": {},
   "source": [
    "Unless we decrease the number of time steps $N$ to $100$ or less no difference can be spotted by plotting the two trajectories in one plot. To analyse and visualise the differences between both trajectories we calculate the differences $\\Delta x$ and $\\Delta y$ for each time step and plot the results. "
   ]
  },
  {
   "cell_type": "code",
   "execution_count": 63,
   "metadata": {},
   "outputs": [
    {
     "ename": "NameError",
     "evalue": "name 'x_analytic' is not defined",
     "output_type": "error",
     "traceback": [
      "\u001b[1;31m---------------------------------------------------------------------------\u001b[0m",
      "\u001b[1;31mNameError\u001b[0m                                 Traceback (most recent call last)",
      "\u001b[1;32m<ipython-input-63-da65ad1b9465>\u001b[0m in \u001b[0;36m<module>\u001b[1;34m\u001b[0m\n\u001b[0;32m      3\u001b[0m \u001b[1;31m# As both are tuples and thus immutable we need to convert them to numpy arrays first,\u001b[0m\u001b[1;33m\u001b[0m\u001b[1;33m\u001b[0m\u001b[1;33m\u001b[0m\u001b[0m\n\u001b[0;32m      4\u001b[0m \u001b[1;31m# if we wish to take the componentwise difference without using a `for` loop\u001b[0m\u001b[1;33m\u001b[0m\u001b[1;33m\u001b[0m\u001b[1;33m\u001b[0m\u001b[0m\n\u001b[1;32m----> 5\u001b[1;33m \u001b[0mx_err\u001b[0m \u001b[1;33m=\u001b[0m \u001b[0mnp\u001b[0m\u001b[1;33m.\u001b[0m\u001b[0marray\u001b[0m\u001b[1;33m(\u001b[0m\u001b[0mx\u001b[0m\u001b[1;33m)\u001b[0m \u001b[1;33m-\u001b[0m \u001b[0mnp\u001b[0m\u001b[1;33m.\u001b[0m\u001b[0marray\u001b[0m\u001b[1;33m(\u001b[0m\u001b[0mx_analytic\u001b[0m\u001b[1;33m)\u001b[0m\u001b[1;33m\u001b[0m\u001b[1;33m\u001b[0m\u001b[0m\n\u001b[0m\u001b[0;32m      6\u001b[0m \u001b[0my_err\u001b[0m \u001b[1;33m=\u001b[0m \u001b[0mnp\u001b[0m\u001b[1;33m.\u001b[0m\u001b[0marray\u001b[0m\u001b[1;33m(\u001b[0m\u001b[0my\u001b[0m\u001b[1;33m)\u001b[0m \u001b[1;33m-\u001b[0m \u001b[0mnp\u001b[0m\u001b[1;33m.\u001b[0m\u001b[0marray\u001b[0m\u001b[1;33m(\u001b[0m\u001b[0my_analytic\u001b[0m\u001b[1;33m)\u001b[0m\u001b[1;33m\u001b[0m\u001b[1;33m\u001b[0m\u001b[0m\n\u001b[0;32m      7\u001b[0m \u001b[1;33m\u001b[0m\u001b[0m\n",
      "\u001b[1;31mNameError\u001b[0m: name 'x_analytic' is not defined"
     ]
    }
   ],
   "source": [
    "# Calculate the differences in x and y values for the analytic and the Euler data\n",
    "\n",
    "# As both are tuples and thus immutable we need to convert them to numpy arrays first, \n",
    "# if we wish to take the componentwise difference without using a `for` loop\n",
    "x_err = np.array(x) - np.array(x_analytic)\n",
    "y_err = np.array(y) - np.array(y_analytic)\n",
    "\n",
    "# We create a figure with two plots next to each other\n",
    "# fig is the figure object, ax is the axes object which we use to plot in\n",
    "fig, ax = plt.subplots(1,2, figsize= (15,4)) \n",
    "\n",
    "# Using f-strings allows us to include the value of variables like `dt` in the string of a label. \n",
    "# This way we don't have to change it manually in the string when we change the values in the input section.\n",
    "# An f-string is indicated by the leading `f` and variables are included using curly brackets\n",
    "ax[0].set_xlabel(f\"number of time steps for $\\Delta t$ = {dt}s\", fontsize=14)\n",
    "ax[0].set_ylabel(\"$\\Delta x$\", fontsize=14)\n",
    "ax[0].plot(x_err)\n",
    "\n",
    "ax[1].set_xlabel(f\"number of time steps for $\\Delta t$ = {dt}s\", fontsize=14)\n",
    "ax[1].set_ylabel(\"$\\Delta y$\", fontsize=14)\n",
    "ax[1].plot(y_err)\n",
    "\n",
    "# plot the results\n",
    "plt.show()"
   ]
  },
  {
   "cell_type": "markdown",
   "metadata": {},
   "source": [
    "With $N =10\\,000$ steps and a time step $\\Delta t=4\\,ms$ the calculated final position and the numerically obtained final postion agree in at least $11$ decimal places in the $x$ component and in $2$ decimal places in the $y$ component. \n",
    "\n",
    "The graph confirms what we have guessed in _version 1_ about the error in the $y$ component: the error grows linearly with the number of steps $N$ for a fixed $\\Delta t$, which makes long term predictions unreliable. \n",
    "To keep the error the same for increasing times $t_{final}$ we need to make $\\Delta t$ smaller. This means that we have to keep increasing the number $N$ of steps by a greater factor than we increase the time $t_{final}$. \n",
    "\n",
    "##### Problem 2.\n",
    "_Run the code with different guesses for $N$ when doubling, tripling, ... the current value of $t_{final}$ while keeping the errorthe same to $\\Delta y\\leq 0.008$. Use your data to estimate the relationship between $N$ as a function of $t_{final}$. You can also try to find this relationship by studying how the error propagates using calculus. In this case check your analytical result by testing it with the code._\n",
    "\n",
    "##### **Q:** _Why does the graph of the $\\Delta x$ error look so weird?_\n",
    "First of all, we notice that the error $\\Delta x$ in the $x$ components is much much smaller than the $y$ component. This is because the $x$ component grows linearly (affine) with time in this case. Indeed, by rewriting the _SUVAT_ equation in component form \n",
    "\n",
    "$$\n",
    "\tr(t) = \\begin{pmatrix} r_x(t) \\\\ r_y(t)\\end{pmatrix} = \\begin{pmatrix} r_{0,x} \\\\ r_{0,y}\\end{pmatrix} + \\begin{pmatrix} v_{0,x} \\\\ v_{0,y}\\end{pmatrix}t + \\frac{1}{2}\\begin{pmatrix} 0 \\\\ -9.81\\end{pmatrix}t^2\n",
    "$$\n",
    "\n",
    "we find for the $x$ component\n",
    "\n",
    "$$\n",
    "    r_x(t) = r_{0,x}  +  v_{0,x}t\n",
    "$$\n",
    "\n",
    "which is a linear (affine) relationship. Since $t_{final} = N\\,\\Delta t$ we have\n",
    "\n",
    "$$\n",
    "    \\sum_{j=1}^N v_{0,x}\\Delta t = N\\,v_{0,x}\\Delta t = v_{0,x} t_{final}\n",
    "$$\n",
    "\n",
    "In other words, adding the vector $v_{0,x}\\Delta t$ every single iteration of the `for` loop (i.e. $N$ times) in the _Euler method_ or multiplying the vector $v_{0,x}$ with the final time $t_{final}$ yields the same result. Both are mathematically equivalent.\n",
    "\n",
    "Since both are mathematically equivalent the error $\\Delta x$ should be zero throughout; _but why is there an error regardless and why is the graph jumping like this?_ The very small difference in the $x$ components of the position vectors is due to rounding and representation errors in a computer. We are storing the numbers as [_floating points_](https://docs.python.org/3/tutorial/floatingpoint.html) (floats) and the computer only stores a fixed number of digits per number (it uses 64 bits). This means that during each operation with floats precision errors can occur. When calculating the final velocity with _SUVAT_ we only use three operations, but for the _Euler method_ we use $2\\times 10\\,000$ operations leading to a miniscule difference in the numerical result due to this error, although both methods are mathematically equivalent!\n",
    "\n",
    "##### **Note:**\n",
    "\n",
    "1. _When calculating numerically using a computer two mathematically equivalent ways of obtaining a result might not produce the same numerical result! In fact, one method might be much more suitable for a problem than another because it has a much better error propagation._\n",
    "\n",
    "2. _When we want to do high-precision arithmetic or require very precise simulations it is very important to think about how to represent the numbers in a computer to avoid such errors. In that case we would not be using floats. However, for our purposes the error from the floating point arithmetic is negligible as we have seen._"
   ]
  },
  {
   "cell_type": "markdown",
   "metadata": {},
   "source": [
    "#### Velocity\n",
    "\n",
    "We turn to comparing the velocities obtained with the _Euler method_ and _SUVAT_\n",
    "\n",
    "$$\n",
    "    v(t) = v_0 + g\\,t\n",
    "$$\n",
    "\n",
    "The code for this is essentially the same as for position."
   ]
  },
  {
   "cell_type": "code",
   "execution_count": 3,
   "metadata": {},
   "outputs": [
    {
     "ename": "NameError",
     "evalue": "name 'N' is not defined",
     "output_type": "error",
     "traceback": [
      "\u001b[1;31m---------------------------------------------------------------------------\u001b[0m",
      "\u001b[1;31mNameError\u001b[0m                                 Traceback (most recent call last)",
      "\u001b[1;32m<ipython-input-3-d145debcf818>\u001b[0m in \u001b[0;36m<module>\u001b[1;34m\u001b[0m\n\u001b[0;32m      2\u001b[0m \u001b[1;33m\u001b[0m\u001b[0m\n\u001b[0;32m      3\u001b[0m \u001b[1;31m# Calculate the velocities for each time step using SUVAT and a list comprehension\u001b[0m\u001b[1;33m\u001b[0m\u001b[1;33m\u001b[0m\u001b[1;33m\u001b[0m\u001b[0m\n\u001b[1;32m----> 4\u001b[1;33m \u001b[0mvel_analytic\u001b[0m \u001b[1;33m=\u001b[0m \u001b[1;33m[\u001b[0m\u001b[0mvel_init\u001b[0m  \u001b[1;33m+\u001b[0m  \u001b[0mg\u001b[0m \u001b[1;33m*\u001b[0m \u001b[1;33m(\u001b[0m\u001b[0mk\u001b[0m\u001b[1;33m*\u001b[0m\u001b[0mdt\u001b[0m\u001b[1;33m)\u001b[0m \u001b[1;32mfor\u001b[0m \u001b[0mk\u001b[0m \u001b[1;32min\u001b[0m \u001b[0mrange\u001b[0m\u001b[1;33m(\u001b[0m\u001b[0mN\u001b[0m\u001b[1;33m+\u001b[0m\u001b[1;36m1\u001b[0m\u001b[1;33m)\u001b[0m\u001b[1;33m]\u001b[0m\u001b[1;33m\u001b[0m\u001b[1;33m\u001b[0m\u001b[0m\n\u001b[0m\u001b[0;32m      5\u001b[0m \u001b[1;33m\u001b[0m\u001b[0m\n\u001b[0;32m      6\u001b[0m \u001b[1;31m# Use tuple unpacking to obtain tuples of x- and y-coordinates of the list of velocity vectors\u001b[0m\u001b[1;33m\u001b[0m\u001b[1;33m\u001b[0m\u001b[1;33m\u001b[0m\u001b[0m\n",
      "\u001b[1;31mNameError\u001b[0m: name 'N' is not defined"
     ]
    }
   ],
   "source": [
    "# Compare the velocities calculated with Euler vs SUVAT\n",
    "\n",
    "# Calculate the velocities for each time step using SUVAT and a list comprehension\n",
    "vel_analytic = [vel_init  +  g * (k*dt) for k in range(N+1)]\n",
    "\n",
    "# Use tuple unpacking to obtain tuples of x- and y-coordinates of the list of velocity vectors\n",
    "vx_analytic, vy_analytic = zip(*vel_analytic) \n",
    " \n",
    "# We calculate the componentwise differences using vectors instead of a `for` loop\n",
    "vx_err = np.array(vx) - np.array(vx_analytic)\n",
    "vy_err = np.array(vy) - np.array(vy_analytic)\n",
    "\n",
    "# We create a figure with two plots next to each other\n",
    "# fig is the figure object, ax is the axes object which we use to plot in\n",
    "fig, ax = plt.subplots(1,2, figsize= (15,4)) \n",
    "\n",
    "# Using f-strings we include the value of variable `dt` in the string of a label. \n",
    "ax[0].set_xlabel(f\"number of time steps for $\\Delta t$ = {dt}s\", fontsize=14)\n",
    "ax[0].set_ylabel(\"$\\Delta v_x$\", fontsize=14)\n",
    "ax[0].plot(vx_err)\n",
    "\n",
    "ax[1].set_xlabel(f\"number of time steps for $\\Delta t$ = {dt}s\", fontsize=14)\n",
    "ax[1].set_ylabel(\"$\\Delta v_y$\", fontsize=14)\n",
    "ax[1].plot(vy_err)\n",
    "\n",
    "plt.show()"
   ]
  },
  {
   "cell_type": "markdown",
   "metadata": {},
   "source": [
    "We can see that the velocity obtained by the _Euler method_ agrees with the one we have obtained from _SUVAT_ apart from numerical errors. As the $v_x$ component remains unchanged in both methods, the error $\\Delta v_x$ is zero. \n",
    "\n",
    "The error in he $v_y$ components is very small and both values agree for $11$ significant figures at least. Mathematically speaking we have the same situation as for $\\Delta x$: $v_y$ is a linear (affine) function of the time $t$. Therefore, the _Euler method_ and _SUVAT_ are mathematically equivalent in this case. However, they are not _numerically equivalent_ due to the vastly different number of operations involved in the _Euler method_ compared to _SUVAT_ and the rounding and representation error of real numbers using floats. Such errors are called **machine word error** in numerical maths.  \n"
   ]
  },
  {
   "cell_type": "markdown",
   "metadata": {},
   "source": [
    "##### Problem 3.\n",
    "In this version 2 we have refrained from saving the time information and have only iterated over the number of time steps $N$. Recall that this has caused us some minor inconveniences when calculating the position and velocities using _SUVAT_, as the equations require the time as parameter and not just the time step $\\Delta t$ that has been sufficient for the _Euler method_ so far. The aim of this problem is to simplify the code by introducing _time_, which we will need in the future as well.\n",
    "1. Research the method `linspace()` of the `numpy` package and think how it can be used to represent the time data.\n",
    "2. Use the inputs `N` and `t_final` to create a `numpy` array `time` representing the time using `linspace()`.\n",
    "3. Rewrite all the `for` loops to iterating over `time` rather then the number of time steps. Simplify any other parts of the code you notice.\n",
    "4. Check whether the code has indeed become simpler and more uniform. If it has not, then go back and think how you could make it simpler.\n"
   ]
  }
 ],
 "metadata": {
  "kernelspec": {
   "display_name": "Python 3",
   "language": "python",
   "name": "python3"
  },
  "language_info": {
   "codemirror_mode": {
    "name": "ipython",
    "version": 3
   },
   "file_extension": ".py",
   "mimetype": "text/x-python",
   "name": "python",
   "nbconvert_exporter": "python",
   "pygments_lexer": "ipython3",
   "version": "3.8.2"
  }
 },
 "nbformat": 4,
 "nbformat_minor": 4
}
