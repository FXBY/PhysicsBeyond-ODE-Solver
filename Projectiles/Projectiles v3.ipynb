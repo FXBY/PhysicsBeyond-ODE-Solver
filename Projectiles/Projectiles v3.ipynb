{
 "cells": [
  {
   "cell_type": "markdown",
   "metadata": {},
   "source": [
    "# Simulating Projectile motion (version 3.0)\n",
    "\n",
    "#### Ver 1:\n",
    "- The aim of the first version is to have a working implementation of the _Euler method_ for the motion of a projectile.\n",
    "- the _input parameters_ are set in the code and the _output_ yields the final position and velocity of the projectile\n",
    "- In the _evaluation_ we simply print out the error of the values obtained by the _Euler method_ when compared to the ones obtained using _SUVAT_\n",
    "\n",
    "#### Ver 2:\n",
    "- The aim of this second version is to improve the _output_ and _evaluation_ by saving and comparing the postion and velocity for each time step and plotting the data.\n",
    "\n",
    "#### Ver 3:\n",
    "- Add animated graphs using `matplotlib`\n",
    "\n",
    "\n",
    "---"
   ]
  },
  {
   "cell_type": "markdown",
   "metadata": {},
   "source": [
    "We first import `numpy` to work with vectors in Python conveniently and `matplotlib.pyplot` to be able to plot our results. "
   ]
  },
  {
   "cell_type": "code",
   "execution_count": 4,
   "metadata": {},
   "outputs": [],
   "source": [
    "# Importing packages\n",
    "import numpy as np\n",
    "import matplotlib.pyplot as plt\n",
    "\n",
    "# Method for animating plots\n",
    "from matplotlib.animation import FuncAnimation\n",
    "\n",
    "# For jupyter notebooks: to display animations inline\n",
    "from IPython.display import HTML\n",
    "\n",
    "# This is a magic command for plots being plotted inline in the notebook.\n",
    "%matplotlib inline"
   ]
  },
  {
   "cell_type": "markdown",
   "metadata": {},
   "source": [
    "### Input"
   ]
  },
  {
   "cell_type": "markdown",
   "metadata": {},
   "source": [
    "This is the part of our code were we set the _input parameters_ for our simulation.\n",
    "- we need the initial position $r_0$ and velocity $v_0$\n",
    "- we need to set the gravitational field strenght $g$\n",
    "- we need to set the time step $\\Delta t$"
   ]
  },
  {
   "cell_type": "code",
   "execution_count": 5,
   "metadata": {},
   "outputs": [],
   "source": [
    "# Input\n",
    "\n",
    "# initial position and velocity of the point particle\n",
    "pos_init = np.array([.0, .0])\n",
    "vel_init = np.array([10.0, 20.0])\n",
    "\n",
    "# Set the acceleration g due to gravity\n",
    "g = np.array([.0, -9.81])"
   ]
  },
  {
   "cell_type": "markdown",
   "metadata": {},
   "source": [
    "Now we determine the time step $\\Delta t$. For that we take the number of time steps $N$ as well as the final time $t_{final}$ as the input and calculate\n",
    "$$\n",
    "    \\Delta t = \\frac{t_{final}}{N}\n",
    "$$"
   ]
  },
  {
   "cell_type": "code",
   "execution_count": 11,
   "metadata": {},
   "outputs": [],
   "source": [
    "# Set the number N of time steps \n",
    "N = 100\n",
    "# Set a final time \n",
    "t_final = 4\n",
    "\n",
    "dt = t_final/N"
   ]
  },
  {
   "cell_type": "markdown",
   "metadata": {},
   "source": [
    "### Main"
   ]
  },
  {
   "cell_type": "markdown",
   "metadata": {},
   "source": [
    "The main part of our code is the implementation of the _**Euler method**_. \n",
    "- In our fist implementation we simply run through a `for` loop for $N$ number of time steps. \n",
    "- In each run we update the postion vector implemented by `pos` and velocity vector implemented as `vel` via the *Euler method*:\n",
    "$$\n",
    "    \\begin{align*}\n",
    "        r(t+\\Delta t) &\\approx r(t) + v(t)\\Delta t \\\\\n",
    "        v(t+\\Delta t) &\\approx v(t) + g\\Delta t\n",
    "    \\end{align*}\n",
    "$$\n",
    "\n",
    "- We update the `pos` and `vel` vectors directly for each time step\n",
    "- For each time step we save the newly calculated position vector `pos` in a list `trajectory`. This list is the data structure representing the calculated _trajectory_, i.e. the path of the point particle, hence the name.\n",
    "- For each time step we save the newly calculated velocity vector `vel` in a list `vel_data`. We shall use it later for comparing the numerical _Euler method_ with the analytical solution using _SUVAT_."
   ]
  },
  {
   "cell_type": "code",
   "execution_count": 12,
   "metadata": {},
   "outputs": [],
   "source": [
    "# Implementing the Euler method\n",
    "# Set the intial values for position and velocity\n",
    "pos = pos_init\n",
    "vel = vel_init\n",
    "\n",
    "# List for saving the position for each time step for plotting and evaluation\n",
    "trajectory = [pos]\n",
    "\n",
    "# List for saving the velocity for each time step for plotting and evaluation \n",
    "vel_data = [vel]\n",
    "\n",
    "# Calculate the new position and velocity for each time step and save them in the respective lists\n",
    "for i in range(N):\n",
    "    pos = pos + vel*dt\n",
    "    vel = vel + g*dt\n",
    "    trajectory.append(pos)\n",
    "    vel_data.append(vel)\n"
   ]
  },
  {
   "cell_type": "markdown",
   "metadata": {},
   "source": [
    "The vectors `pos` and `vel` contain now the approximations to $r(t_{final})$ and $v(t_{final})$ we have calculated with the _Euler method_. The list `trajectory` contains all the numerically calculated points for each time step ranging from $t=0$ until $t=t_{final}$ and is the approximation of the real trajectory obtained by the _Euler method_. Similarly, `vel_data` contains all the numeically calculated velocity vectors for each time step."
   ]
  },
  {
   "cell_type": "markdown",
   "metadata": {},
   "source": [
    "### Output"
   ]
  },
  {
   "cell_type": "markdown",
   "metadata": {},
   "source": [
    "We improve the output by plotting the trajectory of our projectile we have calculated with the help of the _Euler method_. We make use of the `matplotlib` package and start with a simple basic plot.\n",
    "\n",
    "To begin with we split the list `trajectory`  of position vectors into two tuples: the tuple `x` of all $x$-coordinates and the tuple `y` of all $y$-coordinates. This is called _tuple unpacking_ in Python. We do this as the plotting method `plt.plot` requires the $x$- and $y$-coordinates separately. We will use both tuples for the evaluation later as well.\n",
    "\n",
    "##### Problem 1.\n",
    "_Find a way to make the plot using [slicing](https://dev.to/duomly/what-is-slicing-in-python-58f2) of `trajectory` instead of tuple unpacking_ (Hint: You will need to convert the list `trajectory` into a `numpy` array first.)"
   ]
  },
  {
   "cell_type": "code",
   "execution_count": 13,
   "metadata": {},
   "outputs": [
    {
     "data": {
      "image/png": "[encoded data removed]",
      "text/plain": [
       "<Figure size 432x288 with 1 Axes>"
      ]
     },
     "metadata": {
      "needs_background": "light"
     },
     "output_type": "display_data"
    }
   ],
   "source": [
    "# Output: plot the trajectory of the projectile\n",
    "\n",
    "# we 'unzip' the list of position vectors into two tuples of x- and y-components and plot the data\n",
    "x,y = zip(*trajectory)\n",
    "\n",
    "plt.plot(x, y)\n",
    "plt.xlabel(\"$x$-coordinate\")\n",
    "plt.ylabel(\"$y$-coordinate\")\n",
    "plt.show()"
   ]
  },
  {
   "cell_type": "markdown",
   "metadata": {},
   "source": [
    "Trying to plot the velocity vectors in this way is not a helpful visualisation of the data. (_Try it out and see for yourself!_) Instead, we create separate plots of the $v_x$ and $v_y$ components of the velocity $v(t)$ as a function of time $t$.\n",
    "\n",
    "For this we will need to create a `figure` object with two plots next to each other using the method `subplots` of `matplotlib.pyplot`. This methods returns a _tuple_ consisting of the `figure` object and (a tuple of) `Axes` objects. The `Axes` objects are the ones that have the `plot` method and are used for the respective plots.\n",
    "\n",
    "Since we wish to plot the velocity components over time we need to create the respective time data `t_data` first. We could use a [list comprehension](https://www.programiz.com/python-programming/list-comprehension) to create `t_data`. However, we shall use the `numpy` method `linspace` instead. "
   ]
  },
  {
   "cell_type": "markdown",
   "metadata": {},
   "source": [
    "##### Animation of the trajectory"
   ]
  },
  {
   "cell_type": "code",
   "execution_count": 15,
   "metadata": {},
   "outputs": [
    {
     "data": {
      "text/html": [
       "<video width=\"432\" height=\"288\" controls autoplay loop>\n",
       "  <source type=\"video/mp4\" src=\"data:video/mp4;base64,AAAAHGZ0eXBNNFYgAAACAGlzb21pc28yYXZjMQAAAAhmcmVlAAAn0m1kYXQAAAKtBgX//6ncRem9\n",
       "5tlIt5Ys2CDZI+7veDI2NCAtIGNvcmUgMTU1IHIyOTAxIDdkMGZmMjIgLSBILjI2NC9NUEVHLTQg\n",
       "QVZDIGNvZGVjIC0gQ29weWxlZnQgMjAwMy0yMDE4IC0gaHR0cDovL3d3dy52aWRlb2xhbi5vcmcv\n",
       "eDI2NC5odG1sIC0gb3B0aW9uczogY2FiYWM9MSByZWY9MyBkZWJsb2NrPTE6MDowIGFuYWx5c2U9\n",
       "MHgzOjB4MTEzIG1lPWhleCBzdWJtZT03IHBzeT0xIHBzeV9yZD0xLjAwOjAuMDAgbWl4ZWRfcmVm\n",
       "PTEgbWVfcmFuZ2U9MTYgY2hyb21hX21lPTEgdHJlbGxpcz0xIDh4OGRjdD0xIGNxbT0wIGRlYWR6\n",
       "b25lPTIxLDExIGZhc3RfcHNraXA9MSBjaHJvbWFfcXBfb2Zmc2V0PS0yIHRocmVhZHM9NiBsb29r\n",
       "YWhlYWRfdGhyZWFkcz0xIHNsaWNlZF90aHJlYWRzPTAgbnI9MCBkZWNpbWF0ZT0xIGludGVybGFj\n",
       "ZWQ9MCBibHVyYXlfY29tcGF0PTAgY29uc3RyYWluZWRfaW50cmE9MCBiZnJhbWVzPTMgYl9weXJh\n",
       "bWlkPTIgYl9hZGFwdD0xIGJfYmlhcz0wIGRpcmVjdD0xIHdlaWdodGI9MSBvcGVuX2dvcD0wIHdl\n",
       "aWdodHA9MiBrZXlpbnQ9MjUwIGtleWludF9taW49NSBzY2VuZWN1dD00MCBpbnRyYV9yZWZyZXNo\n",
       "PTAgcmNfbG9va2FoZWFkPTQwIHJjPWNyZiBtYnRyZWU9MSBjcmY9MjMuMCBxY29tcD0wLjYwIHFw\n",
       "bWluPTAgcXBtYXg9NjkgcXBzdGVwPTQgaXBfcmF0aW89MS40MCBhcT0xOjEuMDAAgAAACUJliIQA\n",
       "E//+97GPgU3IAA2XOop6H+EVsfSQUXqx2aBk6gAAAwAAiYH639g5EFiA/Q9bGjFWLCV8iLfMV59N\n",
       "XjWlLhlCHhxV5cQ73tHhnf8OAhMWaVz7p0g3o+iakLFgADOri1PFzBj+YVOr/JRsY0kkWwZapoKf\n",
       "aAUJluFm0bux1WY8lUkxYoUnKGkueOTl8lm4kp52xDf2F65NIRSYEoygLhgX3Fj1GpUqrcNejjqq\n",
       "Dyq1ZlEoQPcDgIK1LA4O3DSv0Yqmnz5dH16EACX3qClxZT2MvqtFSA5u8rIGYEeSpQctbVKZdL4G\n",
       "+mXpx6ODqO2XexRjBr8J5DdspLrBnWa/nN3Kjag+12fUloZK8AASJSDWx7X16K0ZjDDwIif3Bh8a\n",
       "tLX9MEKIWb/zkvQciCLvnX31l7MKcpttFrQsFufATOMegDKNrjQz4+zWbeZGR5xeeyDupuKZGhYp\n",
       "Xao/hFxHzJJP6KfIC0CGSDn4e+e2yrhDbH8eWtVV2gZBBXNuoFi6bLZvi8HvE0ouNmUYHL+Ru/4G\n",
       "EQGV0L7uePgd3lyKr04Ecvrv0ybXYvxc845ymUkmedGVbPRwNUmAhUcA+b7M+G2wzAzEtj/uUtYK\n",
       "GMTOjd90V66PCuC7AGZ5OqDtZKQxH7U3CjhmLVGPNhD0j3EX1QPGA2J6dxufs/SPl/GaZdsBZPV7\n",
       "G2qpryxkjuupsnEoiIsaSyJyZ7/gRGBIMWlE5Z3bRJ+EEgKwHk2gYhGzB/uwt+jwTySXYC4sruXJ\n",
       "dl5wNtA8vxbJrYFc0XGIPMgQRj7q+8UW7DuVOztvmQR/5wUvlczVGBgxyHAmh8oqJJyPj+msN+F7\n",
       "glipBvd+O01m/4D5A313/uO7L7HWMx48K92TzHqNVX+716cqG04mJSDiLrQOb5cGFYKsGKa5MlDC\n",
       "toqi0t5AuXXB9Tw3gIw0lXzfUwfk/7JpTYA21lTxoaYtKRHcYC7gC9wwFGpZHpFWlferpj0FVAZH\n",
       "KMxeTD06xKrabOTMdbYSrDXAfDUjLA+Mn0G8smz7Z1g3bFtLaZy8SxsRV3daRxqZx6CYG/YlOi+Y\n",
       "gD/cFXyZEATDDmWQGVinEctbZA5j4fxIiVHnw4e4ax4CJg3DPKBIzFhb2AQZtUR9wN73WHtICyt3\n",
       "uOtInh24fE8MoF6JPusz9+NSk6B6noLrPGLkda/hnycfWhSf6FWvaigp8MarhyNOnaUKJ22NI5QR\n",
       "M+aTAmRUCLL32EvaWG7y6MMmt/61Vr4DihTpQb8OouP8iUe9OyYtjKdR45RNs3IS1i3wxfJqRyHM\n",
       "bmjwAUC6KmtuXXrNUXF8dW24umPaw3RIvfEYAQFa1GpXk+4NEYNJaNtkL4q/lwUFm/CF62AAJ3Zg\n",
       "+a3r6L1sSFURDspSKkwsKoBgEhdOTF4jTC4okaEUCydW5FdgNTKc2N6s1FV8fW5kMwTZPgA0lmPi\n",
       "0OrKNnFf5C13RMeJqXrv//hLmvIXuuzyQat5d0WJVldxQkFaImfUk65unU5LZiv8P9I7qUPT5Sfe\n",
       "MiTvYDQ9AXT2zVeD+quMt6EW5J2DS8ck04CSE3cjOSss5iUwFr0xp2L7Z7fDDbhhC0P7LSgSX6My\n",
       "4RLyg0WlFvO5m42BkIDlHWfhDjSRupBj0bUE63JSxeD05itbEPhGE2llpxBO8Kg47//FHz9bFAIS\n",
       "NNRb2YgUxoAuOxqVOWSjNSnH7YCdt1HuAmVN076WXCNPNV6ibaUd8fgpRvz5wl1zmTCcu2Q0WI9i\n",
       "vkA0x67o/U3bE4bZ9L/neYKkPX+SS0Fr1IJpoMbB9Sd4MdVzvOwaG+bqe0SjCudQgrQQl2V11+vN\n",
       "BaCu4RDPvspYMxgAAur+VBdeaAKq9y36QYaDQK6JVKFr5flKRO/KglzhW+3PdC1Ojpp3me5cMEKo\n",
       "fvy7BjNdxeF9xJEDpr8grJbkmRERTmXRCs2DapMvRfRDeR6hd8/j2+gXUnu9IDQCn01JeSm3bju7\n",
       "OnwGYYV80SupsaurS/J+n6RKV4+h89+Ijoap2BvP1hQdMCaViccoJ0w03DVR3VAgSt4wO7edHqaz\n",
       "JU7gRKVWFfrQtQD6vagUXbS3yNwPDDJYNigk/CLA+Uz0Wy0jlb+Uwk8VB7rjdTIHVND9dL0lAH7G\n",
       "g/nnFM8BFZSt8qqkBDL3c2zOCCMCBUkbQfhunhLwwIANpBf0gFte8G66tAjn/KSoTe1GQ6B53geC\n",
       "fscmgAPHYZKz3Vkqxv1Czy3Pkccahow4qoc1ZEOD7lEdliNR6qstS1rzSILcOESLRizT+l4r21XX\n",
       "mAz3EG2WQmGMW1Jh1scAELksSFhGY6CdpYTsVrOWXCtyYe85HFfhJFErz7UaOe0l2FD0m0Kvo3Os\n",
       "eJBdkjIMjChIWlla70wb1vrZgCAahUh1fiDpOcQ80XTGbpe0QQAuP29DrixVsHxZBHQ0GPIjP1qp\n",
       "iL8YrSGUZLwdMW62dgRBZ7t7iOLGK5gdXn+f/74ZhCyQsjQPQ3sg0wrw4UBtQwE3wqFa64D1hQYt\n",
       "Eyl1ukAVvS35ksVFlNVepYc5ORpM0UCoeNZ7KqA2NBx7dJIBE+xBSfRCEWGLVb+KyYSgUxy7aQ6k\n",
       "N86aVSFzOsD1lERFrgx5z1ikvyuUq3NnWHDsp/dePIRsSVIQ8B9QGGSQM3f3Ik+HiPem/o2nX5GP\n",
       "UjcE3DvptBT5MkJiiromqGnNsxv7xQ3A4lDFya2AMIz4/C5qI53uMgKeRvYWmNOtXJBU2DLwNh03\n",
       "M9aouwL/K5JLOwpgJcsus/j+emqlZHKWaBJGz8Q9qvZsEAeyv6bepYHB24aWBHiNcVhawBELbPND\n",
       "E9Ln+ZRNAcNLBkO6HEnoH4pDneyh/0pwQRts8X8i7i6vFpbcxsoih/kLsewixRlWC5lFR4pRXjvb\n",
       "2zfz7unb5HimyJsQ97lipUAA4DdjuMWdmn+NhteB9b7DS0gHmxptpHxA4c/9jhshuvRF/vy36mIK\n",
       "wJ6JUX3nEfMqNBxmoXPz1vPR8mbxuuFtWdkicgdL3xyFd0trj2BFkvlJBEeeoHCAOrdPteFf1Dgn\n",
       "9wms+kVawywhnpOlfdt39rsgt3AqSAFK3cqEyz+DjfTyBT+RvZV6xzdu31ZfnvQ3esVfvNo0f1bp\n",
       "F02G0KCkpl/Fk/zpWJ5YzatHw4lCMVm9Jh/J+DUAAAG2QZokbEEv/rUqgAA6TuAUAokOSDy7294n\n",
       "hDjgARWf1pBlKpRQ9OhK6iqgX1B7aIrpKq4HVZ895f2C3+Nra0STW+dHkFIT/kQfKu8wvaMzHxAY\n",
       "EcYCM1ooZobvrMUObdpBmsqyKyJzkkujuQ5vI7pZMFQolvS1oxc/dx0+LXpnz3oo3KEVpPwASm3a\n",
       "WUI9mJjd4Qk0f0DgmGCrX+m5wJHH1543KHRhySoSqPsH7tGmmOdem9QSxjpEcr+tyeIHZmlZWKH7\n",
       "ycAVvI1N1YP0cAoxKooyrABWZ5eUb//tnhfiIB9V2/zB2kh1ufemRCpXGKewDuLt/0MT01ANkjdc\n",
       "ACqahzE9aHDrSxHOeBlI3pmi4o41jjiInfZZjC2MXN081jkMX1fFUTw02A30GM7uC415iBWAdFjA\n",
       "SNozS987oQqFwHHaAp1xUuv+MGcYoD+WxCyih3YHswJ6nTmQUGGFRqNoU6HIEyCDx/rQMifkK4kd\n",
       "LXak+GdMMO61aC8jB8Fq1OCvHATYzCgrbG0GARcY6hdXE/NGdwv0wgqyxv381CaWbtgaVlk5+Kv/\n",
       "BvkP8VONaYBe3WTdyW6IAAAAOUGeQniCHwAASVD29GVkgj51uVFDg4OgA2lGeSEio5RPEdoT4C82\n",
       "0qst2ln+QxhE/GTDm8Gnc3IB2QAAACgBnmF0Q/8AAKOLgRRADx/uNRbAq6Hnv6PJl1SctvGFnvR5\n",
       "GuC8LpAwAAAAIgGeY2pD/wAABPkhxwAW9dKY185oQ4Z18LQC2X6hxDT20oEAAABUQZplSahBaJlM\n",
       "CCf//rUqgAABvNOc+qExAKE44t4ue064Os8AWeJZYDCWPms4nQO1uWndTwRrEdn36hdaYLRIFTX3\n",
       "acrlxtWuRZ++emh/z73pH9znAAAAs0GaiUnhClJlMCCX//61KoAABstoL9jg1xsP8wkATku+Bv8n\n",
       "IfeQopwJiPtZg/qpVoa0CbAIRm84AEyzb0+F06lmWBr245iR1qiCnylU1epdQjcwGRk+T2ou7JD/\n",
       "1RL2F1XtpYIuGLeVJZKlPT7ChDLEfo6VX5066ztcOkMzmBczNdLCTPAbZXM7HM2eW+sjdTjlCy2j\n",
       "G0EXrumq8YVlrnJo5YUIhEmSIlvlQz/YYGPvVrPRAAAAK0Gep0U0TBD/AAAIattTl43TrdYMANc4\n",
       "jV9FBshRGTonidvBD5dp4QOck2UAAAAmAZ7GdEP/AAAJjitbkOANYZpXILlncgejApVj9O1KXvsL\n",
       "2t/rq7QAAAAiAZ7IakP/AAAS2DaXjTdd4sd0ALaCANL1Xpc8VxFxKfdllAAAAIBBmstJqEFomUwU\n",
       "8Ev//rUqgAAGzlwfoY2dAM5SSrSrhA+grCHZb7nhr3Cz/Zdd12v9Zslp47d5nWWSYHwQw1firtiH\n",
       "ZboAla4JHrrrcPWFQcOmnc6Gi+WKxsPEK5/YiuqDJ+eI+Q3nTaZ1aGMPtxIp65rh1ifjU5bYk46s\n",
       "Yb8kDwAAACIBnupqQ/8AABKf6SebutADhFBK9G8fhNbDVH8GWK3N98AqAAAAREGa7EnhClJlMCCX\n",
       "//61KoAABso5sXGpu450AhW5jvf/qP37aeiWGjibh0iRr5vE/lqFcfU5P2dJ7OOk6Hv3EGeO8/9S\n",
       "AAAAT0GbDUnhDomUwIJ//rUqgAANlOj6fDtypAKPVKagIaqVwaii19LAw43je8Cga0yxLIETBL1J\n",
       "il1mCXtTXf1Ke/DyuchXBiEyRAGLoQ2AaYEAAAB+QZswSeEPJlMCCX/+tSqAABqueUoJFhKllXtO\n",
       "wPVU8CjoPufVzOMCDBBitVLcukU82ZsVZ99/dMB8pl1NGnw2wpCSThyNncsF2TKJCX/PEM7c6/od\n",
       "0xLH7dv+tPD4B0DbYzBg8Qesva8jZwnwrwws0U3VfoFt+HJue6NXi/AhAAAAKkGfTkURPBD/AAAQ\n",
       "1DnAQzF+QHFDKKAAUQ9/567j3tIPG12JAOrv/lrKgQAAABsBn29qQ/8AACR5GaEXp+woU49Su0T1\n",
       "GkgzZoAAAABeQZtySahBaJlMFPBL//61KoAAGpqL7wNfEA3PN6OzFGvahCTyIoygKGPBt8ZXbXgJ\n",
       "1bfit0oT8OMwrK9oa+w3/9pWzghpDBZb/4rqwIMGU/pOiqNW2jAHuj9DYpuSpgAAAB8Bn5FqQ/8A\n",
       "AElL3UaVrcAIksQfKGqc9naKnxiX8fBVAAAAXEGblEnhClJlMFLBL/61KoAAGqdckQnsA+bzI9Lo\n",
       "5UC9Hr7Prc9zjk9anhtP9VB49P0lb0U1bsTCLeC3rMAh+G82vELMUeEIzv5gXM0ffA3zPblDvo1F\n",
       "Qu3KaGRgAAAAHwGfs2pD/wAASVovogb38I4AOHZDhaMtn7s89afoDKgAAABvQZu1SeEOiZTAgl/+\n",
       "tSqAADPyznETHs8IBQ90vAUAdObpcCjISE7y328S3rhiqMyJR0Xz3qiLW98/rNJ8G8YSkImccY4m\n",
       "ZmKoL+jLq5jBKMwEACJBvPIv20aHq/Urqux2aBPe9AZHdSV4z5kXeCTBAAAAOUGb1knhDyZTAgl/\n",
       "/rUqgAAz9RGhNGIBFkVgRQ3gzwYG+l60oZURvbV2RMLSzbWSlReO6+TcI/xvQAAAAGFBm/dJ4Q8m\n",
       "UwIJf/61KoAAM9HEr5Gz8tpAFDY4Fz/+OxhFEIQuMlg/ZY4fC+3b1EPCjRVXrmyXHMdZ+TudzVt9\n",
       "2MzFIX7s9PmSSYLCWF39ABp7pv5havScwQacft09zQpXAAAANkGaGEnhDyZTAgl//rUqgAAylPlM\n",
       "UA/qYAbzsc7atCOF/P9G++EHIU5gOQYW/s3wJQLfXjCJUwAAAFpBmjlJ4Q8mUwIJf/61KoAAZbcf\n",
       "8FLmqXc5IPPmNxsOKCQ4TPPxTHolmdsv5SxBHMUCyGaoNHwpFfWLhQ+zJrGj+wLPk2tvyOoL/2fv\n",
       "1TKyi/MYppkzzFuFBV8AAABQQZpbSeEPJlMFETwS//61KoAAZTOx/qQMgPpNyMf5Z5RQoiwqjHNt\n",
       "NcaLXjK+NVFoGpbUl2+d45FiZhf1E/WuAb/cck1moZxcdUuLf8aQsoEAAAAVAZ56akP/AAER56g+\n",
       "NI/l8QtJ05vIAAAAWkGafEnhDyZTAgl//rUqgABlI4lfG1ONH1QD5g4qoPlmveZwZIwFi+bBmiD4\n",
       "fKSZlY1fQ9fQ7EsvSk/C9wk1F9km8t1l6w4e5BZ6zBQMdCphvqpkZwJ/uaEmYQAAAD5Bmp1J4Q8m\n",
       "UwIJf/61KoAAYxx+M//l2gH30r4e86flnCxdDJ3/WqgieFua0QpMdbfwxrCcBVTrq6lfVI/h0wAA\n",
       "AE1Bmr5J4Q8mUwIJf/61KoAAxn8vgd7k+zhqA4ug+lvPLCS51O8UWjKh4Th8JkMM/KX4sbGu6BgP\n",
       "3umIwbvEqrO8BFxiBBO/Di0rFWKNuAAAAGVBmt9J4Q8mUwIJf/61KoAAxdRGfqmIFOUrOVZDqlA7\n",
       "7xPv5bmaK51uhXCqfKqCCtXIyDQYTrZIKIxnZVboGKpmWe54A2u/LOB3udrkpmfVD8NLgKOG/Bwu\n",
       "s9jmBRAGKhqLDN8yygAAAEhBmuBJ4Q8mUwIJf/61KoAAxedTo4ipQFTCbu3haY9mi7PejjB0eJwL\n",
       "5K3O19yv/3ANbMMzn9P/GAlZpxoppih1bTEywEkfcbEAAABZQZsBSeEPJlMCCf/+tSqAAMX0Svql\n",
       "SAebN+e+IuXdQNSARQvJ3TXHWDC0fo//58c6cLYCn/j20nAv9ePuiq1EF8CC5/4MtCkoIo4CLf+W\n",
       "u4GTapI9+tnAidgAAABCQZsjSeEPJlMFETwT//61KoAAwU9W2sM13AaABuNaAPJIdzPLaEj8PNT7\n",
       "NSdgJWTwcSIS+MlJcU76zFDGpEaZSgI/AAAAFwGfQmpD/wACCo7PFlLi95KYQkPNgObyAAAAVUGb\n",
       "RUnhDyZTBTwT//61KoAAwE003maPgjoAJQmDiYgruWxHDJAKPT6ujkOnBhLxw429JudZinOV6To6\n",
       "E53kjUeQwAMHxP1YDN7kPdWPp/PuIzYkFbEAAAAXAZ9kakP/AAIDz1Jvi5p6moKB+7gbRUEAAACk\n",
       "QZtoSeEPJlMCCf/+tSqAAXjif+4NwkApDjvBU+Y6k3jCBMDnp53f6ymhFmuap0Zlg3lIdpIDc8Dy\n",
       "tdKeyPO2vq9A9CIt+NGNqJH4Nc2QXhdJ+a4C9YSMrRqt4jmz7MrUGeO7vkR2DCkD9m6tX8QRrwZO\n",
       "ChyXFbMci1RubiZn7vd7O8y45lV/T58eS1kwEuzNnBvwQ6gvIKDuuRL8MhU4M7LMH+EAAAAlQZ+G\n",
       "RRE8EP8AAc+/vdY/cY3ddegBrn/qc42kPqgaoOvh/ldegQAAACIBn6dqQ/8AA/dib9YHwBeqkO36\n",
       "pYlKjf+DiGKd/l+HoILAAAAAbkGbqkmoQWiZTBTwT//+tSqAAXfmpYqMAE8Zy/BXSzg4WQqQOz2n\n",
       "ItAph+bKXhIgK68JxTC60HUyQwRwI8IVCh8n411A7LhkTJCWMvpi+x9Iyhn11Lqz9y/w4DY5vTWm\n",
       "CwH41qebLkgj7C/2cCFNAAAAKQGfyWpD/wAD7LDolh0ALWpGnbM/CE7ghevL/27Q9pyRMg6AA8pH\n",
       "+tA1AAAAm0GbzknhClJlMCCf//61KoABdyslACfMhMW2tNvqikSeOcGk56iMbvqTjgQJf3v6gK0G\n",
       "DlGVD63Fkr27/2B+JMGmp/KwfZcpa7PLNyxgg+oS532h9jp86uFbTjzcYNBZAORILwMIIBXu7TJy\n",
       "ijZkw4RsGTnWapI6lvmKZdiaZPOLl5psd9D6TAQ/m7O8QmnxAQbaEAyKeNmcCFNAAAAAKUGf7EU0\n",
       "TBD/AAHCSlVzgWQAARRm1InXdYxZzopxanWEob+9VjqT9CDIAAAAIAGeC3RD/wAD4d5OBuOAD9k1\n",
       "/Pp2dyIRzAi+g/+iTEzRAAAAGQGeDWpD/wAD1rLekmiFjVNViWS0THEyyaEAAABtQZoRSahBaJlM\n",
       "CCf//rUqgAFuLL6AUnecn8GYjQpxlRqcdEnhR4OHsroS7Nvegb7HwW3GPQIK5KP0fUiriWFLNuVO\n",
       "Ews98eWaFEqPf/PosztzY4JHXyfI6bGcpsJpxt7ANNpGHbi/NM9keuwj4QAAACRBni9FESwQ/wAB\n",
       "xJ7eVtvesoAQeElNzxbmPRQDefyV2Hf1lGgAAAAgAZ5QakP/AAPKToKFEvgBF3z+eXxh8ZH2Gi1F\n",
       "6ZolZYAAAABiQZpUSahBbJlMCCf//rUqgAFmDaXTjIEAEHXZiMaK6lmuamgyMffhe5Wui/Kz+58c\n",
       "dtvR7QYC3AEYsbiSggLXx79fI7Pizn19iCd0Bw5SSuxIgbJorGeE5qRMD65vCA2YPaEAAAAjQZ5y\n",
       "RRUsEP8AAbU4sU6AADhWpUaCLkCWMrXEb+9QsAv+JsoAAAAiAZ6TakP/AAPAssRK6AC5Xzxp8LON\n",
       "yx8fDVcx7Q4r9uPSaAAAAEhBmphJqEFsmUwIJ//+tSqAAV3h9uXMhfMAOS3pkbmRoY3EohcSAkAq\n",
       "gee4J7knP5t/lIR8+8e/HP/zj1sT7D+INXhAlrEgYEEAAAAYQZ62RRUsEP8AAatTXHvW1oxBjUOz\n",
       "l/NAAAAAEwGe1XRD/wADsMrbQT6SSByWaYEAAAAYAZ7XakP/AAO0jkAVLQAtQOOROHPMAI9NAAAA\n",
       "gEGa20moQWyZTAgn//61KoABW+yV1iuoAIOfsgUSU2pztLwANGDN4ep+m6piM7yOhflEEmncrbFP\n",
       "lpqj1ejt3fn61kLRX5Gmq1kcXjLKjCBYqD0HMcti/zpJJN4FvyzPllYyZeRcbl1OV7CxF1tykZd0\n",
       "SbOYk84Ch9OOfuzZwIWcAAAAG0Ge+UUVLBD/AAGvob6ddS7GpqIYcWVol8LWUQAAABwBnxpqQ/8A\n",
       "A58OhIWf+XwAi8I+UZUIHxa22PogAAAAUUGbHUmoQWyZTBRME//+tSqAAVwtX/ABM8eJF4GXdt5M\n",
       "F8UizxBotRZciILuI+D2dXkIIaKK9ie3qA5MgUpPaRJHNWgoZDaCOVCArbq0PXYS8QAAABkBnzxq\n",
       "Q/8AA5xs1xeuk05tw1xji3pngTzRAAAAiEGbIUnhClJlMCCX//61KoABUyhwsBQ/mbtkeN+uQOYj\n",
       "z7e31c84en/HJ6pGxjU1CAD2p4n9Okaqu5nNJIqmPwbyC0nL3PIoC1ISbQBRWgP3+NJmzyhEwjYH\n",
       "n5BStzL7NHrqwD+zU9+4Mciw0OGGptDxL3LIaSyDP+MofgGw8hoxYUdqsOaELiAAAAAsQZ9fRTRM\n",
       "EP8AAaWhlnHHo1oAABm442z8c5MKxjBbdRd+l1sZjriygCR3sGQAAAAhAZ9+dEP/AAOfXuKZ7BzY\n",
       "ApCeU38u5Yav6W5lMZX+sTKBAAAAIQGfYGpD/wADfw5OgBbCIkG9GIcY4umkI39QNB5O/x8FQAAA\n",
       "AH1Bm2JJqEFomUwIJ//+tSqAAUorrgBa952JyjIDb3UwGuJbS6R3PvhyJc00YSflQCIWXNeFQCG/\n",
       "GC24MNO1tmdIbBxJcv//Bb67rFKH1Hnm9Nmc/9UiNbrWnnE5+sOuC5NkAnMTOcDnzklVITAHFnPh\n",
       "BHYzQrnClD8Z5eYfMQAAAGVBm4ZJ4QpSZTAgl//+tSqAAUEk5iYJ9v+b+z8+NyaEspLyd0pXvB6l\n",
       "vXOAXlkl1QMTmoTZOhdoMPCIxQ5JzCAEathp8+vMyGUXra4QtcG8+cqTc67qvbcjZJHY7zk2EhDg\n",
       "viYG9AAAACpBn6RFNEwQ/wABkaH1/R7LHv5YACCYXnmJ9+EQ48qXa57vRa6Ahx/xNlEAAAAiAZ/D\n",
       "dEP/AANzvX4Kwg8/o4ANOqcOjLf34hAcl+Av8PpFRQAAABgBn8VqQ/8AAblkpKb2Ezh7a2gErIj3\n",
       "GbEAAABtQZvHSahBaJlMCCX//rUqgAChRy/08RAKKx80O24nvbWk1nKEJYcg0FfsigZjlPgAh3rD\n",
       "XzpjWr/9YvIvzpgi6bnpgWUFIQ6F1Z2BFexUByzoiuy7fESzrA9GDHELRHismdCGeDdPV0zr7GQm\n",
       "6wAAAFtBm+lJ4QpSZTBREsEv/rUqgACcM90L95gDRUiMHUoqWm3nz7BvsNbJUBwBUjz9I5TFRyGr\n",
       "mUjrBuQQeyDv7IS0kZVzFK+JXumEMVLAUvwa2MMGsqZfKOj86c2+AAAAGgGeCGpD/wABr+wB8PzL\n",
       "a1JFQ+DnlBJ/4JB4AAAAdkGaC0nhDomUwUTBL/61KoABXCdKABpE2PUkOx+n/iTkguM4/29UZVL8\n",
       "FY2g08R+7zxca0YiJDFHVGfnh2xjwvy7+kZ2zbDyt9egSwinbaS06NDE4K0VmttQ9N0i1latu6ms\n",
       "bx/bn5zUx3pA9ze4+zw/R8jB98EAAAAoAZ4qakP/AAGvzSt35VImOgFYYld57ivGZtB9jzxee1eo\n",
       "dC4Z1f38EwAAAGpBmixJ4Q8mUwIJf/61KoAAnDg83AQrYC4FT2sHCSZmqg8DYtM5BwVfGcwvq5YS\n",
       "I1eSQOeldslZuj5qtL6+/lnznNKkkWiRtzzFr0Fuc5nMs/S76KDVXN9JPLAtAFyJSOpiKbc8T+v2\n",
       "RJwwAAAAOkGaTUnhDyZTAgl//rUqgABMGfSZK/sATTdn/LB0Kp4YCo1TWVvCl+7GbbwhCBmOpjsc\n",
       "u0Ix771o5SEAAABJQZpuSeEPJlMCCX/+tSqAAEwZ9JknagFAY4mCvEWgU5Doy+IiLoFrTtvgFECA\n",
       "QfE/ZSeGnfdJENR6uwZt+D0Y+tC+yEY9960cpQAAAFtBmpBJ4Q8mUwURPBL//rUqgABMDo2Sd4AR\n",
       "ToArLKRVblsT/+khIwZ1HehgJVGbt1JTJ/Tm6tud/8LoHZ3ydUkgOJRc0CZp6PX4EZMOvSW0LLuB\n",
       "YrAKml35FW71AAAAGwGer2pD/wABBVfra2YFY6ZcUcqiByL+DDJVgAAAAG5BmrJJ4Q8mUwU8Ev/+\n",
       "tSqAACYNSkTjoCkm6Idx2KxofQd+UHxYKNpUkMZB0it0GLS0Oydu1QopP49DCHIFzkbt91tDuCZe\n",
       "w2lurEpKhieHF2P6KuYOjtQn36PpCKse0DiwNhiotx92pHucW8N1wAAAABoBntFqQ/8AAQVX6yIi\n",
       "WgO6fwWOIefcP8IsdQAAAGZBmtRJ4Q8mUwU8Ev/+tSqAAWUnSgASm9iGXEtfn8uXrP8huAvmabnR\n",
       "ZwKrKtVOQ5uSxOceTRVnteZ6vI7JmuTjR9hful+WeGbp0La50Zw2pcf0aI6jmPKKJ9bWZkwA07Vh\n",
       "naQjqSAAAAAbAZ7zakP/AAEFV+rOm7j766naSLkRMwyMRol6AAAAV0Ga9knhDyZTBTwS//61KoAA\n",
       "JTSixtoVgEpqj02IfpSSFNNX7WwCFywnk5vgQGOF34YWWLIPJIbiOij2bu2TTTMgPzvoTM4i1TPg\n",
       "q5vhGiQayO3UmJ4noQAAAC0BnxVqQ/8AAQVX6s6buZNBb3317QfQBXIp6sH9oK+90kn80CHD6moa\n",
       "DW1fQJwAAAA2QZsXSeEPJlMCCf/+tSqAACUOC3AApocISTSUgMonc5I+xG1V9aGzuHyTwaC8/zO0\n",
       "EC4B580FAAAAckGbOknhDyZTAgl//rUqgAASGk5aRyWQA4M1M1z9xN201eT/j8bgj/1k0hSmoOmo\n",
       "e2qGgQc4oNVR5raIhc2BvpLk8UCfNkaROGtU7Hya4ldktowd52b0C5rzhsOmLxJIkoBfEzmBCEU3\n",
       "fdzr2ATjASilWQAAAB9Bn1hFETwQ/wAAdqGuCbmshFZqXjl6LxoMgX12CJC8AAAAHAGfeWpD/wAA\n",
       "MjmjmJuAc+gCLCE9qoOwZmuJcV0AAABPQZt8SahBaJlMFPBL//61KoAACQNzMQCWPK7WtJH67aRN\n",
       "BfewtFnhUbHEhtLAgSTbqOhKrxXYk1mWPl8Xe+8ar4B56YH4ZtKFIGbo/jaGYAAAACQBn5tqQ/8A\n",
       "AQWVpA+hEzvm0oRpLlK9ACCczCrNL1OwVUGS5XEAAAA6QZudSeEKUmUwIJf//rUqgAAIzSYC5l0w\n",
       "ApGIbjAf/rBZRBfOWtDFouK4ofHeInVM9Zt++1EhRmFtVwAAADlBm75J4Q6JlMCCX/61KoAABGZu\n",
       "hJyHoAIjAIPzd4R6ezrfXJHLBKaE2B2Wa/cmIf2C0REyUxcOXKgAAAA4QZvfSeEPJlMCCX/+tSqA\n",
       "AARmkwF2YWYARkK2sFi4bz0WBduwC9trrEfxS7r2nk/7IZn/cjPrWrIAAAAzQZvgSeEPJlMCCX/+\n",
       "tSqAAARFmpqkK32igAU4NqJUgA03Q7qp/Meemi9nh/Yn7ltZEpp5AAAAQUGaA0nhDyZTAh///qmW\n",
       "AAAQiQ67hhsVEmk1wAlqJq9dg+J/9Qgrv97xMKzBoKHMwRsGnwF/a1xOx1kQ+Vm2YjxIAAAALEGe\n",
       "IUURPBD/AAB2oa4JuayDB93N2530BQkWnAAlqW38otoPR9BD8Hu/5sZhAAAAJgGeQmpD/wAABh/G\n",
       "n2g4uHGdJDACtz3NUo2V7kn16XJWWl/2AshoAAAHLm1vb3YAAABsbXZoZAAAAAAAAAAAAAAAAAAA\n",
       "A+gAAE4gAAEAAAEAAAAAAAAAAAAAAAABAAAAAAAAAAAAAAAAAAAAAQAAAAAAAAAAAAAAAAAAQAAA\n",
       "AAAAAAAAAAAAAAAAAAAAAAAAAAAAAAAAAAAAAAIAAAZYdHJhawAAAFx0a2hkAAAAAwAAAAAAAAAA\n",
       "AAAAAQAAAAAAAE4gAAAAAAAAAAAAAAAAAAAAAAABAAAAAAAAAAAAAAAAAAAAAQAAAAAAAAAAAAAA\n",
       "AAAAQAAAAAGwAAABIAAAAAAAJGVkdHMAAAAcZWxzdAAAAAAAAAABAABOIAAAEAAAAQAAAAAF0G1k\n",
       "aWEAAAAgbWRoZAAAAAAAAAAAAAAAAAAAKAAAAyAAVcQAAAAAAC1oZGxyAAAAAAAAAAB2aWRlAAAA\n",
       "AAAAAAAAAAAAVmlkZW9IYW5kbGVyAAAABXttaW5mAAAAFHZtaGQAAAABAAAAAAAAAAAAAAAkZGlu\n",
       "ZgAAABxkcmVmAAAAAAAAAAEAAAAMdXJsIAAAAAEAAAU7c3RibAAAALNzdHNkAAAAAAAAAAEAAACj\n",
       "YXZjMQAAAAAAAAABAAAAAAAAAAAAAAAAAAAAAAGwASAASAAAAEgAAAAAAAAAAQAAAAAAAAAAAAAA\n",
       "AAAAAAAAAAAAAAAAAAAAAAAAAAAAABj//wAAADFhdmNDAWQAFf/hABhnZAAVrNlBsJaEAAADAAQA\n",
       "AAMAKDxYtlgBAAZo6+PLIsAAAAAcdXVpZGtoQPJfJE/FujmlG88DI/MAAAAAAAAAGHN0dHMAAAAA\n",
       "AAAAAQAAAGQAAAgAAAAAFHN0c3MAAAAAAAAAAQAAAAEAAAKAY3R0cwAAAAAAAABOAAAAAQAAEAAA\n",
       "AAABAAAoAAAAAAEAABAAAAAAAQAAAAAAAAABAAAIAAAAAAEAABAAAAAAAQAAKAAAAAABAAAQAAAA\n",
       "AAEAAAAAAAAAAQAACAAAAAABAAAYAAAAAAEAAAgAAAAAAgAAEAAAAAABAAAgAAAAAAIAAAgAAAAA\n",
       "AQAAGAAAAAABAAAIAAAAAAEAABgAAAAAAQAACAAAAAAFAAAQAAAAAAEAABgAAAAAAQAACAAAAAAG\n",
       "AAAQAAAAAAEAABgAAAAAAQAACAAAAAABAAAYAAAAAAEAAAgAAAAAAQAAIAAAAAACAAAIAAAAAAEA\n",
       "ABgAAAAAAQAACAAAAAABAAAoAAAAAAEAABAAAAAAAQAAAAAAAAABAAAIAAAAAAEAACAAAAAAAgAA\n",
       "CAAAAAABAAAgAAAAAAIAAAgAAAAAAQAAKAAAAAABAAAQAAAAAAEAAAAAAAAAAQAACAAAAAABAAAg\n",
       "AAAAAAIAAAgAAAAAAQAAGAAAAAABAAAIAAAAAAEAACgAAAAAAQAAEAAAAAABAAAAAAAAAAEAAAgA\n",
       "AAAAAQAAEAAAAAABAAAoAAAAAAEAABAAAAAAAQAAAAAAAAABAAAIAAAAAAEAABAAAAAAAQAAGAAA\n",
       "AAABAAAIAAAAAAEAABgAAAAAAQAACAAAAAADAAAQAAAAAAEAABgAAAAAAQAACAAAAAABAAAYAAAA\n",
       "AAEAAAgAAAAAAQAAGAAAAAABAAAIAAAAAAEAABgAAAAAAQAACAAAAAABAAAQAAAAAAEAACAAAAAA\n",
       "AgAACAAAAAABAAAYAAAAAAEAAAgAAAAABAAAEAAAAAABAAAgAAAAAAIAAAgAAAAAHHN0c2MAAAAA\n",
       "AAAAAQAAAAEAAABkAAAAAQAAAaRzdHN6AAAAAAAAAAAAAABkAAAL9wAAAboAAAA9AAAALAAAACYA\n",
       "AABYAAAAtwAAAC8AAAAqAAAAJgAAAIQAAAAmAAAASAAAAFMAAACCAAAALgAAAB8AAABiAAAAIwAA\n",
       "AGAAAAAjAAAAcwAAAD0AAABlAAAAOgAAAF4AAABUAAAAGQAAAF4AAABCAAAAUQAAAGkAAABMAAAA\n",
       "XQAAAEYAAAAbAAAAWQAAABsAAACoAAAAKQAAACYAAAByAAAALQAAAJ8AAAAtAAAAJAAAAB0AAABx\n",
       "AAAAKAAAACQAAABmAAAAJwAAACYAAABMAAAAHAAAABcAAAAcAAAAhAAAAB8AAAAgAAAAVQAAAB0A\n",
       "AACMAAAAMAAAACUAAAAlAAAAgQAAAGkAAAAuAAAAJgAAABwAAABxAAAAXwAAAB4AAAB6AAAALAAA\n",
       "AG4AAAA+AAAATQAAAF8AAAAfAAAAcgAAAB4AAABqAAAAHwAAAFsAAAAxAAAAOgAAAHYAAAAjAAAA\n",
       "IAAAAFMAAAAoAAAAPgAAAD0AAAA8AAAANwAAAEUAAAAwAAAAKgAAABRzdGNvAAAAAAAAAAEAAAAs\n",
       "AAAAYnVkdGEAAABabWV0YQAAAAAAAAAhaGRscgAAAAAAAAAAbWRpcmFwcGwAAAAAAAAAAAAAAAAt\n",
       "aWxzdAAAACWpdG9vAAAAHWRhdGEAAAABAAAAAExhdmY1OC4xMC4xMDA=\n",
       "\">\n",
       "  Your browser does not support the video tag.\n",
       "</video>"
      ],
      "text/plain": [
       "<IPython.core.display.HTML object>"
      ]
     },
     "execution_count": 15,
     "metadata": {},
     "output_type": "execute_result"
    },
    {
     "data": {
      "image/png": "[encoded data removed]",
      "text/plain": [
       "<Figure size 432x288 with 1 Axes>"
      ]
     },
     "metadata": {
      "needs_background": "light"
     },
     "output_type": "display_data"
    }
   ],
   "source": [
    "# Setting up the plotting figure\n",
    "anim_fig, anim_ax = plt.subplots()\n",
    "\n",
    "# Saving the line2D object we will use for plots\n",
    "line, = plt.plot([], [])\n",
    "\n",
    "# Setting scale and range of coordinate axis. \n",
    "# To do: determine from inputs automatically\n",
    "anim_ax.set_xlim(0, 40)\n",
    "anim_ax.set_ylim(0, 25)\n",
    "\n",
    "# Called for each frame to plot the data until the index `frame`\n",
    "def update(frame):\n",
    "    line.set_data(x[:frame] , y[:frame])\n",
    "    return line,\n",
    "\n",
    "# create the animation object using the figure `anim_fig` by calling the function update for each value in the list `frame`\n",
    "# To do: Improve the code to only use a sensible number of frames\n",
    "# To do: Improve the code so that animation time corresponds to simulated time\n",
    "ani = FuncAnimation(anim_fig, update, frames=range(N),\n",
    "                     blit=True)\n",
    "\n",
    "HTML(ani.to_html5_video())"
   ]
  },
  {
   "cell_type": "code",
   "execution_count": null,
   "metadata": {},
   "outputs": [],
   "source": [
    "# Plotting the v_x and v_y components over time\n",
    "\n",
    "# We create a figure with two plots next to each other\n",
    "# fig is the figure object, ax is the axes object which we use to plot in\n",
    "fig, ax = plt.subplots(1,2, figsize= (15,4)) \n",
    "\n",
    "# we 'unzip' the list of velocity vectors into two tuples of v_x- and v_y-components\n",
    "vx, vy = zip(*vel_data)\n",
    "\n",
    "# we create the time data using linspace (look up what it does!)\n",
    "t_data = np.linspace(0, t_final, N+1)\n",
    "\n",
    "ax[0].set_xlabel(\"time $t$\", fontsize=12)\n",
    "ax[0].set_ylabel(\"$v_x$\", fontsize=14)\n",
    "ax[0].plot(t_data, vx)\n",
    "\n",
    "ax[1].set_xlabel(\"time $t$\", fontsize=12)\n",
    "ax[1].set_ylabel(\"$v_y$\", fontsize=14)\n",
    "ax[1].plot(t_data, vy)\n",
    "\n",
    "# plot the results\n",
    "plt.show()"
   ]
  },
  {
   "cell_type": "markdown",
   "metadata": {},
   "source": [
    "We can see from the graphs that the $v_x$ component stays constant, whereas the $v_y$ component decreases uniformly from the initial value $v_{0,y}$ as we would expect."
   ]
  },
  {
   "cell_type": "markdown",
   "metadata": {},
   "source": [
    "### Evaluation"
   ]
  },
  {
   "cell_type": "markdown",
   "metadata": {},
   "source": [
    "The main reason why we have picked the well-known _projectile motion_ for our first simulation is because we can use the _SUVAT_ equations to calculate the position and velocity for each time $t$ directly and compare this with the results of the _Euler method_. \n",
    "\n",
    "#### Position\n",
    "Using _SUVAT_ the position $r(t)$ for each time $t$ is given by:\n",
    "\n",
    "$$\n",
    "  r(t) = r_0 + v_0\\, t + \\frac{1}{2}g\\, t^2\n",
    "$$\n",
    "\n",
    "Firstly, we compare the trajectories obtained by the _Euler method_ with the one obtained analytically from _SUVAT_ by plotting both in the same graph. We will create the data for the trajectory `trajectory_analytic` calculated from _SUVAT_ using a  [list comprehension](https://www.programiz.com/python-programming/list-comprehension). There are two things we have to be careful about\n",
    "\n",
    "1. Unlike the _Euler method_ that uses the time step $\\Delta t$, the _SUVAT_ equation needs the time $t$ at each step as a parameter. We can calculate $t$ by multiplying $\\Delta t$ with the number of the current time step $k$\n",
    "\n",
    "$$ t = \\Delta t \\cdot k$$\n",
    "\n",
    "2. Although we run through $N$ time steps, the length of our list is $N+1$ as it includes the initial value, too. We have to run our _SUVAT_ calculation for $N+1$ steps to match that. "
   ]
  },
  {
   "cell_type": "code",
   "execution_count": null,
   "metadata": {},
   "outputs": [],
   "source": [
    "# Compare the trajectories calculated with Euler vs SUVAT\n",
    "\n",
    "# Calculate the trajectory using SUVAT and a list comprehension\n",
    "trajectory_analytic = [pos_init + vel_init * (k*dt) + 1/2 * g * (k*dt)**2 for k in range(N+1)]\n",
    "\n",
    "# Use tuple unpacking to obtain tuples of x- and y-coordinates of the list of position vectors\n",
    "x_analytic, y_analytic = zip(*trajectory_analytic) \n",
    "\n",
    "# Plot both trajectories in one graph\n",
    "plt.plot(x,y, label = 'Euler')\n",
    "plt.plot(x_analytic, y_analytic, label = 'Analytic')\n",
    "\n",
    "# Show the legend and the graph\n",
    "plt.legend()\n",
    "plt.show()\n"
   ]
  },
  {
   "cell_type": "markdown",
   "metadata": {},
   "source": [
    "Unless we decrease the number of time steps $N$ to $100$ or less no difference can be spotted by plotting the two trajectories in one plot. To analyse and visualise the differences between both trajectories we calculate the differences $\\Delta x$ and $\\Delta y$ for each time step and plot the results. "
   ]
  },
  {
   "cell_type": "code",
   "execution_count": null,
   "metadata": {},
   "outputs": [],
   "source": [
    "# Calculate the differences in x and y values for the analytic and the Euler data\n",
    "\n",
    "# As both are tuples and thus immutable we need to convert them to numpy arrays first, \n",
    "# if we wish to take the componentwise difference without using a `for` loop\n",
    "x_err = np.array(x) - np.array(x_analytic)\n",
    "y_err = np.array(y) - np.array(y_analytic)\n",
    "\n",
    "# We create a figure with two plots next to each other\n",
    "# fig is the figure object, ax is the axes object which we use to plot in\n",
    "fig, ax = plt.subplots(1,2, figsize= (15,4)) \n",
    "\n",
    "# Using f-strings allows us to include the value of variables like `dt` in the string of a label. \n",
    "# This way we don't have to change it manually in the string when we change the values in the input section.\n",
    "# An f-string is indicated by the leading `f` and variables are included using curly brackets\n",
    "ax[0].set_xlabel(f\"number of time steps for $\\Delta t$ = {dt}s\", fontsize=14)\n",
    "ax[0].set_ylabel(\"$\\Delta x$\", fontsize=14)\n",
    "ax[0].plot(x_err)\n",
    "\n",
    "ax[1].set_xlabel(f\"number of time steps for $\\Delta t$ = {dt}s\", fontsize=14)\n",
    "ax[1].set_ylabel(\"$\\Delta y$\", fontsize=14)\n",
    "ax[1].plot(y_err)\n",
    "\n",
    "# plot the results\n",
    "plt.show()"
   ]
  },
  {
   "cell_type": "markdown",
   "metadata": {},
   "source": [
    "With $N =10\\,000$ steps and a time step $\\Delta t=4\\,ms$ the calculated final position and the numerically obtained final postion agree in at least $11$ decimal places in the $x$ component and in $2$ decimal places in the $y$ component. \n",
    "\n",
    "The graph confirms what we have guessed in _version 1_ about the error in the $y$ component: the error grows linearly with the number of steps $N$ for a fixed $\\Delta t$, which makes long term predictions unreliable. \n",
    "To keep the error the same for increasing times $t_{final}$ we need to make $\\Delta t$ smaller. This means that we have to keep increasing the number $N$ of steps by a greater factor than we increase the time $t_{final}$. \n",
    "\n",
    "##### Problem 2.\n",
    "_Run the code with different guesses for $N$ when doubling, tripling, ... the current value of $t_{final}$ while keeping the errorthe same to $\\Delta y\\leq 0.008$. Use your data to estimate the relationship between $N$ as a function of $t_{final}$. You can also try to find this relationship by studying how the error propagates using calculus. In this case check your analytical result by testing it with the code._\n",
    "\n",
    "##### **Q:** _Why does the graph of the $\\Delta x$ error look so weird?_\n",
    "First of all, we notice that the error $\\Delta x$ in the $x$ components is much much smaller than the $y$ component. This is because the $x$ component grows linearly (affine) with time in this case. Indeed, by rewriting the _SUVAT_ equation in component form \n",
    "\n",
    "$$\n",
    "\tr(t) = \\begin{pmatrix} r_x(t) \\\\ r_y(t)\\end{pmatrix} = \\begin{pmatrix} r_{0,x} \\\\ r_{0,y}\\end{pmatrix} + \\begin{pmatrix} v_{0,x} \\\\ v_{0,y}\\end{pmatrix}t + \\frac{1}{2}\\begin{pmatrix} 0 \\\\ -9.81\\end{pmatrix}t^2\n",
    "$$\n",
    "\n",
    "we find for the $x$ component\n",
    "\n",
    "$$\n",
    "    r_x(t) = r_{0,x}  +  v_{0,x}t\n",
    "$$\n",
    "\n",
    "which is a linear (affine) relationship. Since $t_{final} = N\\,\\Delta t$ we have\n",
    "\n",
    "$$\n",
    "    \\sum_{j=1}^N v_{0,x}\\Delta t = N\\,v_{0,x}\\Delta t = v_{0,x} t_{final}\n",
    "$$\n",
    "\n",
    "In other words, adding the vector $v_{0,x}\\Delta t$ every single iteration of the `for` loop (i.e. $N$ times) in the _Euler method_ or multiplying the vector $v_{0,x}$ with the final time $t_{final}$ yields the same result. Both are mathematically equivalent.\n",
    "\n",
    "Since both are mathematically equivalent the error $\\Delta x$ should be zero throughout; _but why is there an error regardless and why is the graph jumping like this?_ The very small difference in the $x$ components of the position vectors is due to rounding and representation errors in a computer. We are storing the numbers as [_floating points_](https://docs.python.org/3/tutorial/floatingpoint.html) (floats) and the computer only stores a fixed number of digits per number (it uses 64 bits). This means that during each operation with floats precision errors can occur. When calculating the final velocity with _SUVAT_ we only use three operations, but for the _Euler method_ we use $2\\times 10\\,000$ operations leading to a miniscule difference in the numerical result due to this error, although both methods are mathematically equivalent!\n",
    "\n",
    "##### **Note:**\n",
    "\n",
    "1. _When calculating numerically using a computer two mathematically equivalent ways of obtaining a result might not produce the same numerical result! In fact, one method might be much more suitable for a problem than another because it has a much better error propagation._\n",
    "\n",
    "2. _When we want to do high-precision arithmetic or require very precise simulations it is very important to think about how to represent the numbers in a computer to avoid such errors. In that case we would not be using floats. However, for our purposes the error from the floating point arithmetic is negligible as we have seen._"
   ]
  },
  {
   "cell_type": "markdown",
   "metadata": {},
   "source": [
    "#### Velocity\n",
    "\n",
    "We turn to comparing the velocities obtained with the _Euler method_ and _SUVAT_\n",
    "\n",
    "$$\n",
    "    v(t) = v_0 + g\\,t\n",
    "$$\n",
    "\n",
    "The code for this is essentially the same as for position."
   ]
  },
  {
   "cell_type": "code",
   "execution_count": 3,
   "metadata": {},
   "outputs": [
    {
     "ename": "NameError",
     "evalue": "name 'N' is not defined",
     "output_type": "error",
     "traceback": [
      "\u001b[1;31m---------------------------------------------------------------------------\u001b[0m",
      "\u001b[1;31mNameError\u001b[0m                                 Traceback (most recent call last)",
      "\u001b[1;32m<ipython-input-3-d145debcf818>\u001b[0m in \u001b[0;36m<module>\u001b[1;34m\u001b[0m\n\u001b[0;32m      2\u001b[0m \u001b[1;33m\u001b[0m\u001b[0m\n\u001b[0;32m      3\u001b[0m \u001b[1;31m# Calculate the velocities for each time step using SUVAT and a list comprehension\u001b[0m\u001b[1;33m\u001b[0m\u001b[1;33m\u001b[0m\u001b[1;33m\u001b[0m\u001b[0m\n\u001b[1;32m----> 4\u001b[1;33m \u001b[0mvel_analytic\u001b[0m \u001b[1;33m=\u001b[0m \u001b[1;33m[\u001b[0m\u001b[0mvel_init\u001b[0m  \u001b[1;33m+\u001b[0m  \u001b[0mg\u001b[0m \u001b[1;33m*\u001b[0m \u001b[1;33m(\u001b[0m\u001b[0mk\u001b[0m\u001b[1;33m*\u001b[0m\u001b[0mdt\u001b[0m\u001b[1;33m)\u001b[0m \u001b[1;32mfor\u001b[0m \u001b[0mk\u001b[0m \u001b[1;32min\u001b[0m \u001b[0mrange\u001b[0m\u001b[1;33m(\u001b[0m\u001b[0mN\u001b[0m\u001b[1;33m+\u001b[0m\u001b[1;36m1\u001b[0m\u001b[1;33m)\u001b[0m\u001b[1;33m]\u001b[0m\u001b[1;33m\u001b[0m\u001b[1;33m\u001b[0m\u001b[0m\n\u001b[0m\u001b[0;32m      5\u001b[0m \u001b[1;33m\u001b[0m\u001b[0m\n\u001b[0;32m      6\u001b[0m \u001b[1;31m# Use tuple unpacking to obtain tuples of x- and y-coordinates of the list of velocity vectors\u001b[0m\u001b[1;33m\u001b[0m\u001b[1;33m\u001b[0m\u001b[1;33m\u001b[0m\u001b[0m\n",
      "\u001b[1;31mNameError\u001b[0m: name 'N' is not defined"
     ]
    }
   ],
   "source": [
    "# Compare the velocities calculated with Euler vs SUVAT\n",
    "\n",
    "# Calculate the velocities for each time step using SUVAT and a list comprehension\n",
    "vel_analytic = [vel_init  +  g * (k*dt) for k in range(N+1)]\n",
    "\n",
    "# Use tuple unpacking to obtain tuples of x- and y-coordinates of the list of velocity vectors\n",
    "vx_analytic, vy_analytic = zip(*vel_analytic) \n",
    " \n",
    "# We calculate the componentwise differences using vectors instead of a `for` loop\n",
    "vx_err = np.array(vx) - np.array(vx_analytic)\n",
    "vy_err = np.array(vy) - np.array(vy_analytic)\n",
    "\n",
    "# We create a figure with two plots next to each other\n",
    "# fig is the figure object, ax is the axes object which we use to plot in\n",
    "fig, ax = plt.subplots(1,2, figsize= (15,4)) \n",
    "\n",
    "# Using f-strings we include the value of variable `dt` in the string of a label. \n",
    "ax[0].set_xlabel(f\"number of time steps for $\\Delta t$ = {dt}s\", fontsize=14)\n",
    "ax[0].set_ylabel(\"$\\Delta v_x$\", fontsize=14)\n",
    "ax[0].plot(vx_err)\n",
    "\n",
    "ax[1].set_xlabel(f\"number of time steps for $\\Delta t$ = {dt}s\", fontsize=14)\n",
    "ax[1].set_ylabel(\"$\\Delta v_y$\", fontsize=14)\n",
    "ax[1].plot(vy_err)\n",
    "\n",
    "plt.show()"
   ]
  },
  {
   "cell_type": "markdown",
   "metadata": {},
   "source": [
    "We can see that the velocity obtained by the _Euler method_ agrees with the one we have obtained from _SUVAT_ apart from numerical errors. As the $v_x$ component remains unchanged in both methods, the error $\\Delta v_x$ is zero. \n",
    "\n",
    "The error in he $v_y$ components is very small and both values agree for $11$ significant figures at least. Mathematically speaking we have the same situation as for $\\Delta x$: $v_y$ is a linear (affine) function of the time $t$. Therefore, the _Euler method_ and _SUVAT_ are mathematically equivalent in this case. However, they are not _numerically equivalent_ due to the vastly different number of operations involved in the _Euler method_ compared to _SUVAT_ and the rounding and representation error of real numbers using floats. Such errors are called **machine word error** in numerical maths.  \n"
   ]
  },
  {
   "cell_type": "markdown",
   "metadata": {},
   "source": [
    "##### Problem 3.\n",
    "In this version 2 we have refrained from saving the time information and have only iterated over the number of time steps $N$. Recall that this has caused us some minor inconveniences when calculating the position and velocities using _SUVAT_, as the equations require the time as parameter and not just the time step $\\Delta t$ that has been sufficient for the _Euler method_ so far. The aim of this problem is to simplify the code by introducing _time_, which we will need in the future as well.\n",
    "1. Research the method `linspace()` of the `numpy` package and think how it can be used to represent the time data.\n",
    "2. Use the inputs `N` and `t_final` to create a `numpy` array `time` representing the time using `linspace()`.\n",
    "3. Rewrite all the `for` loops to iterating over `time` rather then the number of time steps. Simplify any other parts of the code you notice.\n",
    "4. Check whether the code has indeed become simpler and more uniform. If it has not, then go back and think how you could make it simpler.\n"
   ]
  }
 ],
 "metadata": {
  "kernelspec": {
   "display_name": "Python 3",
   "language": "python",
   "name": "python3"
  },
  "language_info": {
   "codemirror_mode": {
    "name": "ipython",
    "version": 3
   },
   "file_extension": ".py",
   "mimetype": "text/x-python",
   "name": "python",
   "nbconvert_exporter": "python",
   "pygments_lexer": "ipython3",
   "version": "3.8.2"
  }
 },
 "nbformat": 4,
 "nbformat_minor": 4
}
