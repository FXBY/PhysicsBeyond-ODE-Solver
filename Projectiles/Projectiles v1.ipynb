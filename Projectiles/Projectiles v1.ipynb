{
 "cells": [
  {
   "cell_type": "markdown",
   "metadata": {},
   "source": [
    "# Simulating Projectile motion (version 1)\n",
    "\n",
    "- The aim of the first version is to have a working implementation of the _Euler method_ for the motion of a projectile.\n",
    "- the _input parameters_ are set in the code and the _output_ yields the final position and velocity of the projectile\n",
    "- In the _evaluation_ we simply print out the error of the values obtained by the _Euler method_ when compared to the ones obtained using _SUVAT_\n",
    "---"
   ]
  },
  {
   "cell_type": "markdown",
   "metadata": {},
   "source": [
    "We first import `numpy` to work with vectors in Python conveniently "
   ]
  },
  {
   "cell_type": "code",
   "execution_count": 9,
   "metadata": {},
   "outputs": [],
   "source": [
    "# Importing packages\n",
    "import numpy as np"
   ]
  },
  {
   "cell_type": "markdown",
   "metadata": {},
   "source": [
    "### Input"
   ]
  },
  {
   "cell_type": "markdown",
   "metadata": {},
   "source": [
    "This is the part of our code were we set the _input parameters_ for our simulation.\n",
    "- we need the initial position $r_0$ and velocity $v_0$\n",
    "- we need to set the gravitational field strenght $g$\n",
    "- we need to set the time step $\\Delta t$"
   ]
  },
  {
   "cell_type": "code",
   "execution_count": 10,
   "metadata": {},
   "outputs": [],
   "source": [
    "# Input\n",
    "\n",
    "# initial position and velocity of the point particle\n",
    "pos_init = np.array([0, 0])\n",
    "vel_init = np.array([10, 20])\n",
    "\n",
    "# Set g\n",
    "g = np.array([0, -9.81])"
   ]
  },
  {
   "cell_type": "markdown",
   "metadata": {},
   "source": [
    "Now we determine the time step $\\Delta t$. For that we take the number of time steps $N$ as well as the final time $t_{final}$ as the input and calculate\n",
    "$$\n",
    "    \\Delta t = \\frac{t_{final}}{N}\n",
    "$$"
   ]
  },
  {
   "cell_type": "code",
   "execution_count": 11,
   "metadata": {},
   "outputs": [],
   "source": [
    "# Set the number N of time steps \n",
    "N = 10000\n",
    "# Set a final time \n",
    "t_final = 4\n",
    "\n",
    "dt = t_final/N"
   ]
  },
  {
   "cell_type": "markdown",
   "metadata": {},
   "source": [
    "### Main"
   ]
  },
  {
   "cell_type": "markdown",
   "metadata": {},
   "source": [
    "The main part of our code is the implementation of the _**Euler method**_. \n",
    "- In our fist implementation we simply run through a `for` loop for $N$ number of time steps. \n",
    "- In each run we update the postion vector implemented by `pos` and velocity vector implemented as `vel` via the *Euler method*:\n",
    "$$\n",
    "    \\begin{align*}\n",
    "        r(t+\\Delta t) &\\approx r(t) + v(t)\\Delta t \\\\\n",
    "        v(t+\\Delta t) &\\approx v(t) + g\\Delta t\n",
    "    \\end{align*}\n",
    "$$\n",
    "\n",
    "- as we are not saving the positions and velocities at each time step we can simply update the `pos` and `vel` vectors directly. At the moment there is no need to keep track of time. "
   ]
  },
  {
   "cell_type": "code",
   "execution_count": 12,
   "metadata": {},
   "outputs": [],
   "source": [
    "# Implementing the Euler method\n",
    "# Set the intial values for position and velocity\n",
    "pos = pos_init\n",
    "vel = vel_init\n",
    "\n",
    "# Calculate the new position and velocity for each time step\n",
    "for i in range(N):\n",
    "    pos = pos + vel*dt\n",
    "    vel = vel + g*dt\n"
   ]
  },
  {
   "cell_type": "markdown",
   "metadata": {},
   "source": [
    "The vectors `pos` and `vel` contain now the approximations to $r(t_{final})$ and $v(t_{final})$ we have calculated with the _Euler method_. "
   ]
  },
  {
   "cell_type": "markdown",
   "metadata": {},
   "source": [
    "### Output"
   ]
  },
  {
   "cell_type": "markdown",
   "metadata": {},
   "source": [
    "We wish to keep our fist implementation very basic for now. This is why we simply print out the final values obtained by the _Euler method_. We shall implement graphical outputs in the future."
   ]
  },
  {
   "cell_type": "code",
   "execution_count": 13,
   "metadata": {},
   "outputs": [
    {
     "name": "stdout",
     "output_type": "stream",
     "text": [
      "position  [40.        1.527848]\n",
      "velocity  [ 10.   -19.24]\n"
     ]
    }
   ],
   "source": [
    "# Output\n",
    "print(\"position \", pos)\n",
    "print(\"velocity \", vel)"
   ]
  },
  {
   "cell_type": "markdown",
   "metadata": {},
   "source": [
    "### Evaluation"
   ]
  },
  {
   "cell_type": "markdown",
   "metadata": {},
   "source": [
    "The main reason why we have picked the well-known _projectile motion_ for our first simulation is because we can use the _SUVAT_ equations to calculate the final position and velocity directly and compare this with the results of the _Euler method_.\n",
    "$$\n",
    "    v(t_{final}) = v_0 + g\\,t_{final}\n",
    "$$"
   ]
  },
  {
   "cell_type": "code",
   "execution_count": 14,
   "metadata": {},
   "outputs": [
    {
     "name": "stdout",
     "output_type": "stream",
     "text": [
      "velocity (SUVAT):  [ 10.   -19.24]\n",
      "Difference:  [0.00000000e+00 1.13686838e-13]\n"
     ]
    }
   ],
   "source": [
    "# Compare the final velocities calculated with Euler vs SUVAT\n",
    "print(\"velocity (SUVAT): \", vel_init + g*t_final)\n",
    "print(\"Difference: \", vel_init + g*t_final - vel)\n"
   ]
  },
  {
   "cell_type": "markdown",
   "metadata": {},
   "source": [
    "We can see that the final velocity obtained by the _Euler method_ fully agrees with the one we have obtained from _SUVAT_ in the $x$-component, and that there is a very small error in the $y$-component that is negligible.\n",
    "\n",
    "##### **Q:** _Why is that_?\n",
    "\n",
    "This is because the velocity grows linearly (affine) with time in this case. Since $t_{final} = N\\,\\Delta t$ we have\n",
    "\n",
    "$$\n",
    "    \\sum_{j=1}^N g\\,\\Delta t = N\\,g\\,\\Delta t = g\\, t_{final}\n",
    "$$\n",
    "\n",
    "In other words, adding the vector $g\\,\\Delta t$ every single iteration of the `for` loop (i.e. $N$ times) or multiplying the vector $g$ with the final time $t_{final}$ yields the same result. Both are mathematically equivalent.\n",
    "\n",
    "Since the methods are mathematically equivalent, there should be no difference in the values; _so why is there an error in the $y$ components?_ The very small difference in the $y$ components of the velocity vectors is due to rounding and representation errors in a computer. We are storing the numbers as [_floating points_](https://docs.python.org/3/tutorial/floatingpoint.html) (floats) and the computer only stores a fixed number of digits per number (it uses 64 bits). This means that during each operation with floats precision errors can occur. When calculating the final velocity with _SUVAT_ we only use three operations, but for the _Euler method_ we use $2\\times 10\\,000$ operations leading to a miniscule difference in the numerical result due to this error, although both methods are mathematically equivalent!\n",
    "\n",
    "_When we want to do high-precision arithmetic or require very precise simulations it is very important to think about how to represent the numbers in a computer to avoid such errors. In that case we would not be using floats. However, for our purposes the error from the floating point arithmetic is negligible as we have seen._\n",
    "\n",
    "We calculate the final position $r(t_{final})$ using _SUVAT_:\n",
    "\n",
    "$$\n",
    "  r(t_{final}) = r_0 + v_0\\, t_{final} + \\frac{1}{2}g\\, t_{final}^2\n",
    "$$\n"
   ]
  },
  {
   "cell_type": "code",
   "execution_count": 16,
   "metadata": {},
   "outputs": [
    {
     "name": "stdout",
     "output_type": "stream",
     "text": [
      "Position (SUVAT):  [40.    1.52]\n"
     ]
    }
   ],
   "source": [
    "# Compare the final positions calculated with Euler vs SUVAT\n",
    "print(\"Position (SUVAT): \", pos_init + vel_init * t_final + 1/2 * g * t_final**2)"
   ]
  },
  {
   "cell_type": "markdown",
   "metadata": {},
   "source": [
    "and find the exact difference between the calculated and numerically obtained value:"
   ]
  },
  {
   "cell_type": "code",
   "execution_count": 17,
   "metadata": {},
   "outputs": [
    {
     "name": "stdout",
     "output_type": "stream",
     "text": [
      " Difference:  [ 4.12114787e-13 -7.84800000e-03]\n"
     ]
    }
   ],
   "source": [
    "print(\"Difference: \", pos_init + vel_init * t_final + 1/2 * g * t_final**2 - pos)"
   ]
  },
  {
   "cell_type": "markdown",
   "metadata": {},
   "source": [
    "With $N =10\\,000$ steps and a final time $t_{final}=4$ the calculated final position and the numerically obtained final postion agree in the first $2$ decimal places. Although this seems satisfactory we have to be aware that a time of $4\\,s$ is not long and $10\\,000$ steps leads to a very small time step of $\\Delta t = 0.4\\,ms$. Moreover, if we increase the final time $t_{final}$ while keeping $\\Delta t$ the same the error grows linearly as our tests suggested, making long term predictions unreliable. \n",
    "\n",
    "The _Euler method_ works, but is not terribly efficient and hence requires quite a lot of computation time to get reliable results."
   ]
  }
 ],
 "metadata": {
  "kernelspec": {
   "display_name": "Python 3",
   "language": "python",
   "name": "python3"
  },
  "language_info": {
   "codemirror_mode": {
    "name": "ipython",
    "version": 3
   },
   "file_extension": ".py",
   "mimetype": "text/x-python",
   "name": "python",
   "nbconvert_exporter": "python",
   "pygments_lexer": "ipython3",
   "version": "3.8.5"
  }
 },
 "nbformat": 4,
 "nbformat_minor": 4
}
